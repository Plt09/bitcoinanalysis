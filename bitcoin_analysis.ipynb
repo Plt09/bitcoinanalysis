{
  "nbformat": 4,
  "nbformat_minor": 0,
  "metadata": {
    "colab": {
      "name": "bitcoin analysis",
      "provenance": [],
      "collapsed_sections": [
        "bqNzIjUTkIm0",
        "IrVB9d5z9Qc-",
        "QSB0S7Y6FIEt",
        "SgzhAd1C_LUe"
      ]
    },
    "kernelspec": {
      "name": "python3",
      "display_name": "Python 3"
    },
    "language_info": {
      "name": "python"
    }
  },
  "cells": [
    {
      "cell_type": "markdown",
      "metadata": {
        "id": "46Uu7cKduLRg"
      },
      "source": [
        "# Import Packages and Tables"
      ]
    },
    {
      "cell_type": "code",
      "metadata": {
        "id": "alqQx4IzuIDe"
      },
      "source": [
        "import pandas as pd\n",
        "import numpy as np\n",
        "import seaborn as sns\n",
        "import scipy\n",
        "from matplotlib import pyplot\n",
        "import io\n",
        "\n",
        "!pip install statsmodels --upgrade\n",
        "import statsmodels.api as sm\n",
        "from statsmodels.tsa.ar_model import AutoReg\n",
        "\n",
        "!pip install arch\n",
        "from arch import arch_model\n",
        "from sklearn.metrics import mean_absolute_error\n",
        "from sklearn.metrics import mean_squared_error"
      ],
      "execution_count": null,
      "outputs": []
    },
    {
      "cell_type": "code",
      "metadata": {
        "colab": {
          "resources": {
            "http://localhost:8080/nbextensions/google.colab/files.js": {
              "data": "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",
              "ok": true,
              "headers": [
                [
                  "content-type",
                  "application/javascript"
                ]
              ],
              "status": 200,
              "status_text": ""
            }
          },
          "base_uri": "https://localhost:8080/",
          "height": 208
        },
        "id": "A7xtveIhuojM",
        "outputId": "9eeb2910-d658-4e6f-b137-9fd5b280f1aa"
      },
      "source": [
        "from google.colab import files\n",
        "uploaded = files.upload()"
      ],
      "execution_count": null,
      "outputs": [
        {
          "output_type": "display_data",
          "data": {
            "text/html": [
              "\n",
              "     <input type=\"file\" id=\"files-071edb91-58b6-4c6f-aac8-341a60958cf9\" name=\"files[]\" multiple disabled\n",
              "        style=\"border:none\" />\n",
              "     <output id=\"result-071edb91-58b6-4c6f-aac8-341a60958cf9\">\n",
              "      Upload widget is only available when the cell has been executed in the\n",
              "      current browser session. Please rerun this cell to enable.\n",
              "      </output>\n",
              "      <script src=\"/nbextensions/google.colab/files.js\"></script> "
            ],
            "text/plain": [
              "<IPython.core.display.HTML object>"
            ]
          },
          "metadata": {
            "tags": []
          }
        },
        {
          "output_type": "stream",
          "text": [
            "Saving btc daily price.csv to btc daily price.csv\n",
            "Saving fed rates.csv to fed rates.csv\n",
            "Saving nasdaq.csv to nasdaq.csv\n",
            "Saving gold price.csv to gold price.csv\n",
            "Saving Gold Spot.csv to Gold Spot.csv\n"
          ],
          "name": "stdout"
        }
      ]
    },
    {
      "cell_type": "markdown",
      "metadata": {
        "id": "ZM6mL_FsuZjF"
      },
      "source": [
        "# Data Preprocessing"
      ]
    },
    {
      "cell_type": "code",
      "metadata": {
        "colab": {
          "base_uri": "https://localhost:8080/",
          "height": 204
        },
        "id": "7_zv3XX-uYAw",
        "outputId": "69859dd1-4a76-4f74-c6e1-1ce8a50e7f95"
      },
      "source": [
        "btc = pd.read_csv(io.BytesIO(uploaded['btc daily price.csv']))\n",
        "btc['Date'] = pd.to_datetime(btc['Date'])\n",
        "btc = btc.sort_values(by=['Date'],ascending=True)\n",
        "btc.head()"
      ],
      "execution_count": null,
      "outputs": [
        {
          "output_type": "execute_result",
          "data": {
            "text/html": [
              "<div>\n",
              "<style scoped>\n",
              "    .dataframe tbody tr th:only-of-type {\n",
              "        vertical-align: middle;\n",
              "    }\n",
              "\n",
              "    .dataframe tbody tr th {\n",
              "        vertical-align: top;\n",
              "    }\n",
              "\n",
              "    .dataframe thead th {\n",
              "        text-align: right;\n",
              "    }\n",
              "</style>\n",
              "<table border=\"1\" class=\"dataframe\">\n",
              "  <thead>\n",
              "    <tr style=\"text-align: right;\">\n",
              "      <th></th>\n",
              "      <th>Date</th>\n",
              "      <th>Price</th>\n",
              "    </tr>\n",
              "  </thead>\n",
              "  <tbody>\n",
              "    <tr>\n",
              "      <th>3879</th>\n",
              "      <td>2011-01-01</td>\n",
              "      <td>0.3</td>\n",
              "    </tr>\n",
              "    <tr>\n",
              "      <th>3878</th>\n",
              "      <td>2011-01-02</td>\n",
              "      <td>0.3</td>\n",
              "    </tr>\n",
              "    <tr>\n",
              "      <th>3877</th>\n",
              "      <td>2011-01-03</td>\n",
              "      <td>0.3</td>\n",
              "    </tr>\n",
              "    <tr>\n",
              "      <th>3876</th>\n",
              "      <td>2011-01-04</td>\n",
              "      <td>0.3</td>\n",
              "    </tr>\n",
              "    <tr>\n",
              "      <th>3875</th>\n",
              "      <td>2011-01-05</td>\n",
              "      <td>0.3</td>\n",
              "    </tr>\n",
              "  </tbody>\n",
              "</table>\n",
              "</div>"
            ],
            "text/plain": [
              "           Date  Price\n",
              "3879 2011-01-01    0.3\n",
              "3878 2011-01-02    0.3\n",
              "3877 2011-01-03    0.3\n",
              "3876 2011-01-04    0.3\n",
              "3875 2011-01-05    0.3"
            ]
          },
          "metadata": {
            "tags": []
          },
          "execution_count": 14
        }
      ]
    },
    {
      "cell_type": "code",
      "metadata": {
        "colab": {
          "base_uri": "https://localhost:8080/",
          "height": 204
        },
        "id": "IJ6CPVza2I1r",
        "outputId": "4e64c862-fd61-4db7-f3e4-37d652910230"
      },
      "source": [
        "# converting monthly fed rates into daily\n",
        "fed = pd.read_csv(io.BytesIO(uploaded['fed rates.csv']))\n",
        "fed['month'] = pd.to_datetime(fed['Date'], format='%Y-%m')\n",
        "fed = fed.pivot(index='month', columns='fed')\n",
        "\n",
        "start_date = fed.index.min() - pd.DateOffset(day=1)\n",
        "end_date = fed.index.max() + pd.DateOffset(day=31)\n",
        "dates = pd.date_range(start_date, end_date, freq='D')\n",
        "dates.name = 'date'\n",
        "fed = fed.reindex(dates, method='ffill')\n",
        "\n",
        "fed = fed.stack('fed')\n",
        "fed = fed.sort_index()\n",
        "fed = fed.reset_index()\n",
        "fed = fed.drop(['Date'],axis=1)\n",
        "fed = fed.rename({'date':'Date'})\n",
        "fed.head()"
      ],
      "execution_count": null,
      "outputs": [
        {
          "output_type": "execute_result",
          "data": {
            "text/html": [
              "<div>\n",
              "<style scoped>\n",
              "    .dataframe tbody tr th:only-of-type {\n",
              "        vertical-align: middle;\n",
              "    }\n",
              "\n",
              "    .dataframe tbody tr th {\n",
              "        vertical-align: top;\n",
              "    }\n",
              "\n",
              "    .dataframe thead th {\n",
              "        text-align: right;\n",
              "    }\n",
              "</style>\n",
              "<table border=\"1\" class=\"dataframe\">\n",
              "  <thead>\n",
              "    <tr style=\"text-align: right;\">\n",
              "      <th></th>\n",
              "      <th>date</th>\n",
              "      <th>fed</th>\n",
              "    </tr>\n",
              "  </thead>\n",
              "  <tbody>\n",
              "    <tr>\n",
              "      <th>0</th>\n",
              "      <td>1960-01-31</td>\n",
              "      <td>3.99</td>\n",
              "    </tr>\n",
              "    <tr>\n",
              "      <th>1</th>\n",
              "      <td>1960-02-01</td>\n",
              "      <td>3.99</td>\n",
              "    </tr>\n",
              "    <tr>\n",
              "      <th>2</th>\n",
              "      <td>1960-02-02</td>\n",
              "      <td>3.99</td>\n",
              "    </tr>\n",
              "    <tr>\n",
              "      <th>3</th>\n",
              "      <td>1960-02-03</td>\n",
              "      <td>3.99</td>\n",
              "    </tr>\n",
              "    <tr>\n",
              "      <th>4</th>\n",
              "      <td>1960-02-04</td>\n",
              "      <td>3.99</td>\n",
              "    </tr>\n",
              "  </tbody>\n",
              "</table>\n",
              "</div>"
            ],
            "text/plain": [
              "        date   fed\n",
              "0 1960-01-31  3.99\n",
              "1 1960-02-01  3.99\n",
              "2 1960-02-02  3.99\n",
              "3 1960-02-03  3.99\n",
              "4 1960-02-04  3.99"
            ]
          },
          "metadata": {
            "tags": []
          },
          "execution_count": 4
        }
      ]
    },
    {
      "cell_type": "code",
      "metadata": {
        "colab": {
          "base_uri": "https://localhost:8080/",
          "height": 204
        },
        "id": "WPdR3Gc7u6cw",
        "outputId": "a84bfe55-89cf-405d-da4d-0d75e455db84"
      },
      "source": [
        "nasdaq = pd.read_csv(io.BytesIO(uploaded['nasdaq.csv']))\n",
        "nasdaq['Date'] = pd.to_datetime(nasdaq['Exchange Date'])\n",
        "nasdaq = nasdaq.drop(['Exchange Date'],axis=1)\n",
        "nasdaq = nasdaq.rename(columns={\"Close\": \"nasdaq\"})\n",
        "nasdaq.head()"
      ],
      "execution_count": null,
      "outputs": [
        {
          "output_type": "execute_result",
          "data": {
            "text/html": [
              "<div>\n",
              "<style scoped>\n",
              "    .dataframe tbody tr th:only-of-type {\n",
              "        vertical-align: middle;\n",
              "    }\n",
              "\n",
              "    .dataframe tbody tr th {\n",
              "        vertical-align: top;\n",
              "    }\n",
              "\n",
              "    .dataframe thead th {\n",
              "        text-align: right;\n",
              "    }\n",
              "</style>\n",
              "<table border=\"1\" class=\"dataframe\">\n",
              "  <thead>\n",
              "    <tr style=\"text-align: right;\">\n",
              "      <th></th>\n",
              "      <th>nasdaq</th>\n",
              "      <th>Net</th>\n",
              "      <th>%Chg</th>\n",
              "      <th>Open</th>\n",
              "      <th>Low</th>\n",
              "      <th>High</th>\n",
              "      <th>Volume</th>\n",
              "      <th>Date</th>\n",
              "    </tr>\n",
              "  </thead>\n",
              "  <tbody>\n",
              "    <tr>\n",
              "      <th>0</th>\n",
              "      <td>15098.43</td>\n",
              "      <td>-83.20</td>\n",
              "      <td>-0.0055</td>\n",
              "      <td>15125.74</td>\n",
              "      <td>15063.02</td>\n",
              "      <td>15162.34</td>\n",
              "      <td>84374904</td>\n",
              "      <td>2021-08-06</td>\n",
              "    </tr>\n",
              "    <tr>\n",
              "      <th>1</th>\n",
              "      <td>15181.64</td>\n",
              "      <td>98.25</td>\n",
              "      <td>0.0065</td>\n",
              "      <td>15105.40</td>\n",
              "      <td>15083.84</td>\n",
              "      <td>15184.27</td>\n",
              "      <td>152624365</td>\n",
              "      <td>2021-08-05</td>\n",
              "    </tr>\n",
              "    <tr>\n",
              "      <th>2</th>\n",
              "      <td>15083.39</td>\n",
              "      <td>21.97</td>\n",
              "      <td>0.0015</td>\n",
              "      <td>15059.17</td>\n",
              "      <td>15017.14</td>\n",
              "      <td>15117.38</td>\n",
              "      <td>193179867</td>\n",
              "      <td>2021-08-04</td>\n",
              "    </tr>\n",
              "    <tr>\n",
              "      <th>3</th>\n",
              "      <td>15061.42</td>\n",
              "      <td>97.80</td>\n",
              "      <td>0.0065</td>\n",
              "      <td>14997.20</td>\n",
              "      <td>14864.53</td>\n",
              "      <td>15063.66</td>\n",
              "      <td>166865870</td>\n",
              "      <td>2021-08-03</td>\n",
              "    </tr>\n",
              "    <tr>\n",
              "      <th>4</th>\n",
              "      <td>14963.62</td>\n",
              "      <td>3.73</td>\n",
              "      <td>0.0002</td>\n",
              "      <td>15046.10</td>\n",
              "      <td>14945.13</td>\n",
              "      <td>15059.89</td>\n",
              "      <td>157331338</td>\n",
              "      <td>2021-08-02</td>\n",
              "    </tr>\n",
              "  </tbody>\n",
              "</table>\n",
              "</div>"
            ],
            "text/plain": [
              "     nasdaq    Net    %Chg      Open       Low      High     Volume       Date\n",
              "0  15098.43 -83.20 -0.0055  15125.74  15063.02  15162.34   84374904 2021-08-06\n",
              "1  15181.64  98.25  0.0065  15105.40  15083.84  15184.27  152624365 2021-08-05\n",
              "2  15083.39  21.97  0.0015  15059.17  15017.14  15117.38  193179867 2021-08-04\n",
              "3  15061.42  97.80  0.0065  14997.20  14864.53  15063.66  166865870 2021-08-03\n",
              "4  14963.62   3.73  0.0002  15046.10  14945.13  15059.89  157331338 2021-08-02"
            ]
          },
          "metadata": {
            "tags": []
          },
          "execution_count": 5
        }
      ]
    },
    {
      "cell_type": "code",
      "metadata": {
        "colab": {
          "base_uri": "https://localhost:8080/",
          "height": 204
        },
        "id": "u1Eka_ugvjU_",
        "outputId": "58639b64-5a91-4475-abf7-9036c1a2adc1"
      },
      "source": [
        "gold_price = pd.read_csv(io.BytesIO(uploaded['gold price.csv']))\n",
        "gold_price['Date'] = pd.to_datetime(gold_price['Exchange Date'])\n",
        "gold_price = gold_price.drop(['Exchange Date'],axis=1)\n",
        "gold_price = gold_price.rename(columns={\"Close\": \"Gold Price\"})\n",
        "gold_price.head()"
      ],
      "execution_count": null,
      "outputs": [
        {
          "output_type": "execute_result",
          "data": {
            "text/html": [
              "<div>\n",
              "<style scoped>\n",
              "    .dataframe tbody tr th:only-of-type {\n",
              "        vertical-align: middle;\n",
              "    }\n",
              "\n",
              "    .dataframe tbody tr th {\n",
              "        vertical-align: top;\n",
              "    }\n",
              "\n",
              "    .dataframe thead th {\n",
              "        text-align: right;\n",
              "    }\n",
              "</style>\n",
              "<table border=\"1\" class=\"dataframe\">\n",
              "  <thead>\n",
              "    <tr style=\"text-align: right;\">\n",
              "      <th></th>\n",
              "      <th>Gold Price</th>\n",
              "      <th>Net</th>\n",
              "      <th>Volume</th>\n",
              "      <th>Date</th>\n",
              "    </tr>\n",
              "  </thead>\n",
              "  <tbody>\n",
              "    <tr>\n",
              "      <th>0</th>\n",
              "      <td>1760.0</td>\n",
              "      <td>-45.1</td>\n",
              "      <td>825</td>\n",
              "      <td>2021-08-06</td>\n",
              "    </tr>\n",
              "    <tr>\n",
              "      <th>1</th>\n",
              "      <td>1805.1</td>\n",
              "      <td>-5.4</td>\n",
              "      <td>588</td>\n",
              "      <td>2021-08-05</td>\n",
              "    </tr>\n",
              "    <tr>\n",
              "      <th>2</th>\n",
              "      <td>1810.5</td>\n",
              "      <td>0.4</td>\n",
              "      <td>2860</td>\n",
              "      <td>2021-08-04</td>\n",
              "    </tr>\n",
              "    <tr>\n",
              "      <th>3</th>\n",
              "      <td>1810.1</td>\n",
              "      <td>-8.0</td>\n",
              "      <td>3341</td>\n",
              "      <td>2021-08-03</td>\n",
              "    </tr>\n",
              "    <tr>\n",
              "      <th>4</th>\n",
              "      <td>1818.1</td>\n",
              "      <td>5.5</td>\n",
              "      <td>1334</td>\n",
              "      <td>2021-08-02</td>\n",
              "    </tr>\n",
              "  </tbody>\n",
              "</table>\n",
              "</div>"
            ],
            "text/plain": [
              "   Gold Price   Net  Volume       Date\n",
              "0      1760.0 -45.1     825 2021-08-06\n",
              "1      1805.1  -5.4     588 2021-08-05\n",
              "2      1810.5   0.4    2860 2021-08-04\n",
              "3      1810.1  -8.0    3341 2021-08-03\n",
              "4      1818.1   5.5    1334 2021-08-02"
            ]
          },
          "metadata": {
            "tags": []
          },
          "execution_count": 8
        }
      ]
    },
    {
      "cell_type": "code",
      "metadata": {
        "colab": {
          "base_uri": "https://localhost:8080/",
          "height": 204
        },
        "id": "o0pbEgebyoMK",
        "outputId": "0d8b3d25-d3ef-4f2b-8654-9c43a42024d3"
      },
      "source": [
        "gold_spot = pd.read_csv(io.BytesIO(uploaded['Gold Spot.csv']))\n",
        "gold_spot['Date'] = pd.to_datetime(gold_spot['Exchange Date'])\n",
        "gold_spot = gold_spot.drop(['Exchange Date'],axis=1)\n",
        "gold_spot = gold_spot.rename(columns={\"Close\": \"gold_spot\"})\n",
        "gold_spot.head()"
      ],
      "execution_count": null,
      "outputs": [
        {
          "output_type": "execute_result",
          "data": {
            "text/html": [
              "<div>\n",
              "<style scoped>\n",
              "    .dataframe tbody tr th:only-of-type {\n",
              "        vertical-align: middle;\n",
              "    }\n",
              "\n",
              "    .dataframe tbody tr th {\n",
              "        vertical-align: top;\n",
              "    }\n",
              "\n",
              "    .dataframe thead th {\n",
              "        text-align: right;\n",
              "    }\n",
              "</style>\n",
              "<table border=\"1\" class=\"dataframe\">\n",
              "  <thead>\n",
              "    <tr style=\"text-align: right;\">\n",
              "      <th></th>\n",
              "      <th>gold_spot</th>\n",
              "      <th>Net</th>\n",
              "      <th>%Chg</th>\n",
              "      <th>Open</th>\n",
              "      <th>Low</th>\n",
              "      <th>High</th>\n",
              "      <th>Date</th>\n",
              "    </tr>\n",
              "  </thead>\n",
              "  <tbody>\n",
              "    <tr>\n",
              "      <th>0</th>\n",
              "      <td>1763.10</td>\n",
              "      <td>-40.9131</td>\n",
              "      <td>-0.0227</td>\n",
              "      <td>1804.01</td>\n",
              "      <td>1757.70</td>\n",
              "      <td>1804.57</td>\n",
              "      <td>2021-08-06</td>\n",
              "    </tr>\n",
              "    <tr>\n",
              "      <th>1</th>\n",
              "      <td>1804.01</td>\n",
              "      <td>-7.3919</td>\n",
              "      <td>-0.0041</td>\n",
              "      <td>1811.39</td>\n",
              "      <td>1797.20</td>\n",
              "      <td>1814.90</td>\n",
              "      <td>2021-08-05</td>\n",
              "    </tr>\n",
              "    <tr>\n",
              "      <th>2</th>\n",
              "      <td>1811.41</td>\n",
              "      <td>1.4651</td>\n",
              "      <td>0.0008</td>\n",
              "      <td>1810.35</td>\n",
              "      <td>1806.16</td>\n",
              "      <td>1831.51</td>\n",
              "      <td>2021-08-04</td>\n",
              "    </tr>\n",
              "    <tr>\n",
              "      <th>3</th>\n",
              "      <td>1809.94</td>\n",
              "      <td>-3.4451</td>\n",
              "      <td>-0.0019</td>\n",
              "      <td>1813.38</td>\n",
              "      <td>1806.00</td>\n",
              "      <td>1814.76</td>\n",
              "      <td>2021-08-03</td>\n",
              "    </tr>\n",
              "    <tr>\n",
              "      <th>4</th>\n",
              "      <td>1813.39</td>\n",
              "      <td>-0.1965</td>\n",
              "      <td>-0.0001</td>\n",
              "      <td>1813.89</td>\n",
              "      <td>1804.49</td>\n",
              "      <td>1819.43</td>\n",
              "      <td>2021-08-02</td>\n",
              "    </tr>\n",
              "  </tbody>\n",
              "</table>\n",
              "</div>"
            ],
            "text/plain": [
              "   gold_spot      Net    %Chg     Open      Low     High       Date\n",
              "0    1763.10 -40.9131 -0.0227  1804.01  1757.70  1804.57 2021-08-06\n",
              "1    1804.01  -7.3919 -0.0041  1811.39  1797.20  1814.90 2021-08-05\n",
              "2    1811.41   1.4651  0.0008  1810.35  1806.16  1831.51 2021-08-04\n",
              "3    1809.94  -3.4451 -0.0019  1813.38  1806.00  1814.76 2021-08-03\n",
              "4    1813.39  -0.1965 -0.0001  1813.89  1804.49  1819.43 2021-08-02"
            ]
          },
          "metadata": {
            "tags": []
          },
          "execution_count": 7
        }
      ]
    },
    {
      "cell_type": "markdown",
      "metadata": {
        "id": "zbIYz0_2zY0u"
      },
      "source": [
        "# EDA and Pre-tests"
      ]
    },
    {
      "cell_type": "code",
      "metadata": {
        "colab": {
          "base_uri": "https://localhost:8080/",
          "height": 302
        },
        "id": "Tn5umc23zcFB",
        "outputId": "1ce0822f-6645-4f88-d441-74d6bff4c1a5"
      },
      "source": [
        "btc_price = btc[['Date','Price']]\n",
        "btc_price = btc_price.set_index(['Date'])\n",
        "sns.set(rc={'figure.figsize':(8, 4)})\n",
        "btc_price.plot(linewidth=1)"
      ],
      "execution_count": null,
      "outputs": [
        {
          "output_type": "execute_result",
          "data": {
            "text/plain": [
              "<matplotlib.axes._subplots.AxesSubplot at 0x7f1f3017cb10>"
            ]
          },
          "metadata": {
            "tags": []
          },
          "execution_count": 9
        },
        {
          "output_type": "display_data",
          "data": {
            "image/png": "[encoded data removed]",
            "text/plain": [
              "<Figure size 576x288 with 1 Axes>"
            ]
          },
          "metadata": {
            "tags": []
          }
        }
      ]
    },
    {
      "cell_type": "code",
      "metadata": {
        "colab": {
          "base_uri": "https://localhost:8080/",
          "height": 387
        },
        "id": "bsQHTqDKz8zQ",
        "outputId": "f86b46e8-7a61-48ea-ffc6-eea448d198d7"
      },
      "source": [
        "btc['pct_change'] = btc.Price.pct_change()\n",
        "btc['log_ret'] = np.log(btc.Price) - np.log(btc.Price.shift(1))\n",
        "btc['log_ret'][0]=0\n",
        "btc['log_price'] = np.log(btc.Price)\n",
        "btc_return = btc[['Date','log_ret']]\n",
        "btc_return = btc_return.set_index(['Date'])\n",
        "sns.set(rc={'figure.figsize':(8, 4)})\n",
        "btc_return.plot(linewidth=1)"
      ],
      "execution_count": null,
      "outputs": [
        {
          "output_type": "stream",
          "text": [
            "/usr/local/lib/python3.7/dist-packages/ipykernel_launcher.py:3: SettingWithCopyWarning: \n",
            "A value is trying to be set on a copy of a slice from a DataFrame\n",
            "\n",
            "See the caveats in the documentation: https://pandas.pydata.org/pandas-docs/stable/user_guide/indexing.html#returning-a-view-versus-a-copy\n",
            "  This is separate from the ipykernel package so we can avoid doing imports until\n"
          ],
          "name": "stderr"
        },
        {
          "output_type": "execute_result",
          "data": {
            "text/plain": [
              "<matplotlib.axes._subplots.AxesSubplot at 0x7f1f300273d0>"
            ]
          },
          "metadata": {
            "tags": []
          },
          "execution_count": 10
        },
        {
          "output_type": "display_data",
          "data": {
            "image/png": "[encoded data removed]",
            "text/plain": [
              "<Figure size 576x288 with 1 Axes>"
            ]
          },
          "metadata": {
            "tags": []
          }
        }
      ]
    },
    {
      "cell_type": "code",
      "metadata": {
        "colab": {
          "base_uri": "https://localhost:8080/"
        },
        "id": "d5jbBI9101xn",
        "outputId": "3128b644-b4f1-44f2-d61f-99948ee8c071"
      },
      "source": [
        "#ADF Test\n",
        "\n",
        "from statsmodels.tsa.stattools import adfuller\n",
        "X = btc.Price\n",
        "result = adfuller(X)\n",
        "print('ADF Statistic: %f' % result[0])\n",
        "print('p-value: %f' % result[1])\n",
        "print('Critical Values:')\n",
        "\n",
        "for key, value in result[4].items():\n",
        "\tprint('\\t%s: %.3f' % (key, value))"
      ],
      "execution_count": null,
      "outputs": [
        {
          "output_type": "stream",
          "text": [
            "ADF Statistic: -2.535592\n",
            "p-value: 0.107053\n",
            "Critical Values:\n",
            "\t1%: -3.432\n",
            "\t5%: -2.862\n",
            "\t10%: -2.567\n"
          ],
          "name": "stdout"
        }
      ]
    },
    {
      "cell_type": "code",
      "metadata": {
        "colab": {
          "base_uri": "https://localhost:8080/"
        },
        "id": "hTeHVXlw6tFG",
        "outputId": "7617c768-ceb5-4d5a-a69d-75f457d9ad0f"
      },
      "source": [
        "#ADF Test\n",
        "\n",
        "from statsmodels.tsa.stattools import adfuller\n",
        "\n",
        "X = btc.log_ret\n",
        "result = adfuller(X)\n",
        "X.fillna(0)\n",
        "print('ADF Statistic: %f' % result[0])\n",
        "print('p-value: %f' % result[1])\n",
        "print('Critical Values:')\n",
        "\n",
        "for key, value in result[4].items():\n",
        "\tprint('\\t%s: %.3f' % (key, value))"
      ],
      "execution_count": null,
      "outputs": [
        {
          "output_type": "stream",
          "text": [
            "ADF Statistic: -17.637263\n",
            "p-value: 0.000000\n",
            "Critical Values:\n",
            "\t1%: -3.432\n",
            "\t5%: -2.862\n",
            "\t10%: -2.567\n"
          ],
          "name": "stdout"
        }
      ]
    },
    {
      "cell_type": "markdown",
      "metadata": {
        "id": "C-NtDarZCvxe"
      },
      "source": [
        "# ARIMA on log Return diff"
      ]
    },
    {
      "cell_type": "code",
      "metadata": {
        "id": "Y17Vre7X7Wlk"
      },
      "source": [
        "!pip install pmdarima\n",
        "from pmdarima.arima import auto_arima"
      ],
      "execution_count": null,
      "outputs": []
    },
    {
      "cell_type": "code",
      "metadata": {
        "id": "W2my2LA-DwEd"
      },
      "source": [
        "btc_return = btc_return.sort_index()\n",
        "train = btc_return[0:-1001]\n",
        "test = btc_return[-1001:-1]"
      ],
      "execution_count": null,
      "outputs": []
    },
    {
      "cell_type": "code",
      "metadata": {
        "colab": {
          "base_uri": "https://localhost:8080/",
          "height": 284
        },
        "id": "yULYeiPkDFI_",
        "outputId": "d0a22ef2-3636-46c3-ba78-23e5357f111b"
      },
      "source": [
        "from statsmodels.graphics.tsaplots import plot_acf\n",
        "from statsmodels.graphics.tsaplots import plot_pacf\n",
        "plot_pacf(train,lags=20)\n",
        "pyplot.show()"
      ],
      "execution_count": null,
      "outputs": [
        {
          "output_type": "display_data",
          "data": {
            "image/png": "[encoded data removed]",
            "text/plain": [
              "<Figure size 576x288 with 1 Axes>"
            ]
          },
          "metadata": {
            "tags": []
          }
        }
      ]
    },
    {
      "cell_type": "code",
      "metadata": {
        "colab": {
          "base_uri": "https://localhost:8080/",
          "height": 284
        },
        "id": "e02rw8x7bECu",
        "outputId": "20c07c6e-30f7-489d-f69c-9d3ef29310b3"
      },
      "source": [
        "plot_acf(train,lags=20)\n",
        "pyplot.show()"
      ],
      "execution_count": null,
      "outputs": [
        {
          "output_type": "display_data",
          "data": {
            "image/png": "[encoded data removed]",
            "text/plain": [
              "<Figure size 576x288 with 1 Axes>"
            ]
          },
          "metadata": {
            "tags": []
          }
        }
      ]
    },
    {
      "cell_type": "markdown",
      "metadata": {
        "id": "bqNzIjUTkIm0"
      },
      "source": [
        "## Auto ARIMA"
      ]
    },
    {
      "cell_type": "code",
      "metadata": {
        "colab": {
          "base_uri": "https://localhost:8080/"
        },
        "id": "cib_tE3uLa1b",
        "outputId": "5d49d038-c02d-4901-ba2b-a790c73d6af5"
      },
      "source": [
        "arima_model = auto_arima(train, start_p=0, d=0, start_q=0,\n",
        "                         max_p=8, max_d=5, max_q=8,\n",
        "                         m = 12, seasonal = True,\n",
        "                         start_P=0, D=0, start_Q=0,\n",
        "                         max_P=3, max_D=1, max_Q=3,\n",
        "                         error_action ='warn',trace = True,\n",
        "                         supress_warnings=True, stepwise=True,\n",
        "                         random_state=20, n_fits=50)"
      ],
      "execution_count": null,
      "outputs": [
        {
          "output_type": "stream",
          "text": [
            "Performing stepwise search to minimize aic\n",
            " ARIMA(0,0,0)(0,0,0)[12] intercept   : AIC=-8018.038, Time=0.34 sec\n",
            " ARIMA(1,0,0)(1,0,0)[12] intercept   : AIC=-8015.880, Time=2.18 sec\n",
            " ARIMA(0,0,1)(0,0,1)[12] intercept   : AIC=-8016.853, Time=3.26 sec\n",
            " ARIMA(0,0,0)(0,0,0)[12]             : AIC=-8012.252, Time=0.15 sec\n",
            " ARIMA(0,0,0)(1,0,0)[12] intercept   : AIC=-8016.043, Time=2.17 sec\n",
            " ARIMA(0,0,0)(0,0,1)[12] intercept   : AIC=-8016.043, Time=1.50 sec\n",
            " ARIMA(0,0,0)(1,0,1)[12] intercept   : AIC=-8014.043, Time=1.95 sec\n",
            " ARIMA(1,0,0)(0,0,0)[12] intercept   : AIC=-8017.869, Time=0.45 sec\n",
            " ARIMA(0,0,1)(0,0,0)[12] intercept   : AIC=-8018.839, Time=0.81 sec\n",
            " ARIMA(0,0,1)(1,0,0)[12] intercept   : AIC=-8016.853, Time=2.39 sec\n",
            " ARIMA(0,0,1)(1,0,1)[12] intercept   : AIC=-8014.853, Time=4.20 sec\n",
            " ARIMA(1,0,1)(0,0,0)[12] intercept   : AIC=-8039.972, Time=1.97 sec\n",
            " ARIMA(1,0,1)(1,0,0)[12] intercept   : AIC=-8037.979, Time=5.95 sec\n",
            " ARIMA(1,0,1)(0,0,1)[12] intercept   : AIC=-8037.979, Time=6.23 sec\n",
            " ARIMA(1,0,1)(1,0,1)[12] intercept   : AIC=-8035.979, Time=7.91 sec\n",
            " ARIMA(2,0,1)(0,0,0)[12] intercept   : AIC=-8108.197, Time=1.97 sec\n",
            " ARIMA(2,0,1)(1,0,0)[12] intercept   : AIC=-8106.307, Time=8.56 sec\n",
            " ARIMA(2,0,1)(0,0,1)[12] intercept   : AIC=-8106.307, Time=9.19 sec\n",
            " ARIMA(2,0,1)(1,0,1)[12] intercept   : AIC=-8104.306, Time=8.23 sec\n",
            " ARIMA(2,0,0)(0,0,0)[12] intercept   : AIC=-8110.143, Time=1.21 sec\n",
            " ARIMA(2,0,0)(1,0,0)[12] intercept   : AIC=-8108.256, Time=2.81 sec\n",
            " ARIMA(2,0,0)(0,0,1)[12] intercept   : AIC=-8108.255, Time=5.63 sec\n",
            " ARIMA(2,0,0)(1,0,1)[12] intercept   : AIC=-8106.254, Time=2.74 sec\n",
            " ARIMA(3,0,0)(0,0,0)[12] intercept   : AIC=-8108.276, Time=1.08 sec\n",
            " ARIMA(3,0,1)(0,0,0)[12] intercept   : AIC=-8106.203, Time=3.33 sec\n",
            " ARIMA(2,0,0)(0,0,0)[12]             : AIC=-8101.673, Time=0.64 sec\n",
            "\n",
            "Best model:  ARIMA(2,0,0)(0,0,0)[12] intercept\n",
            "Total fit time: 86.891 seconds\n"
          ],
          "name": "stdout"
        }
      ]
    },
    {
      "cell_type": "code",
      "metadata": {
        "colab": {
          "base_uri": "https://localhost:8080/"
        },
        "id": "esNDCCQpDuz1",
        "outputId": "64d6b00c-f7b5-403b-bd83-387fc1a3b6b4"
      },
      "source": [
        "print(arima_model.summary())\n"
      ],
      "execution_count": null,
      "outputs": [
        {
          "output_type": "stream",
          "text": [
            "                               SARIMAX Results                                \n",
            "==============================================================================\n",
            "Dep. Variable:                      y   No. Observations:                 3079\n",
            "Model:               SARIMAX(2, 0, 0)   Log Likelihood                4059.071\n",
            "Date:                Mon, 16 Aug 2021   AIC                          -8110.143\n",
            "Time:                        09:46:41   BIC                          -8086.013\n",
            "Sample:                             0   HQIC                         -8101.475\n",
            "                               - 3079                                         \n",
            "Covariance Type:                  opg                                         \n",
            "==============================================================================\n",
            "                 coef    std err          z      P>|z|      [0.025      0.975]\n",
            "------------------------------------------------------------------------------\n",
            "intercept     -0.0038      0.001     -3.052      0.002      -0.006      -0.001\n",
            "ar.L1          0.0286      0.009      3.264      0.001       0.011       0.046\n",
            "ar.L2         -0.1737      0.006    -30.793      0.000      -0.185      -0.163\n",
            "sigma2         0.0042   2.42e-05    173.377      0.000       0.004       0.004\n",
            "===================================================================================\n",
            "Ljung-Box (L1) (Q):                   0.00   Jarque-Bera (JB):            937727.03\n",
            "Prob(Q):                              0.95   Prob(JB):                         0.00\n",
            "Heteroskedasticity (H):               0.35   Skew:                            -2.60\n",
            "Prob(H) (two-sided):                  0.00   Kurtosis:                        88.34\n",
            "===================================================================================\n",
            "\n",
            "Warnings:\n",
            "[1] Covariance matrix calculated using the outer product of gradients (complex-step).\n"
          ],
          "name": "stdout"
        }
      ]
    },
    {
      "cell_type": "code",
      "metadata": {
        "colab": {
          "base_uri": "https://localhost:8080/",
          "height": 450
        },
        "id": "xHHWkE8ZQZJC",
        "outputId": "375039fd-875f-4fe3-cd9c-f791bed74b29"
      },
      "source": [
        "prediction = pd.DataFrame(arima_model.predict(n_periods=800),index=test.index)\n",
        "prediction.columns = ['predicted BTC log returns']\n",
        "prediction"
      ],
      "execution_count": null,
      "outputs": [
        {
          "output_type": "execute_result",
          "data": {
            "text/html": [
              "<div>\n",
              "<style scoped>\n",
              "    .dataframe tbody tr th:only-of-type {\n",
              "        vertical-align: middle;\n",
              "    }\n",
              "\n",
              "    .dataframe tbody tr th {\n",
              "        vertical-align: top;\n",
              "    }\n",
              "\n",
              "    .dataframe thead th {\n",
              "        text-align: right;\n",
              "    }\n",
              "</style>\n",
              "<table border=\"1\" class=\"dataframe\">\n",
              "  <thead>\n",
              "    <tr style=\"text-align: right;\">\n",
              "      <th></th>\n",
              "      <th>predicted BTC log returns</th>\n",
              "    </tr>\n",
              "    <tr>\n",
              "      <th>Date</th>\n",
              "      <th></th>\n",
              "    </tr>\n",
              "  </thead>\n",
              "  <tbody>\n",
              "    <tr>\n",
              "      <th>2019-06-07</th>\n",
              "      <td>-0.004390</td>\n",
              "    </tr>\n",
              "    <tr>\n",
              "      <th>2019-06-08</th>\n",
              "      <td>0.000495</td>\n",
              "    </tr>\n",
              "    <tr>\n",
              "      <th>2019-06-09</th>\n",
              "      <td>-0.003015</td>\n",
              "    </tr>\n",
              "    <tr>\n",
              "      <th>2019-06-10</th>\n",
              "      <td>-0.003965</td>\n",
              "    </tr>\n",
              "    <tr>\n",
              "      <th>2019-06-11</th>\n",
              "      <td>-0.003382</td>\n",
              "    </tr>\n",
              "    <tr>\n",
              "      <th>...</th>\n",
              "      <td>...</td>\n",
              "    </tr>\n",
              "    <tr>\n",
              "      <th>2021-08-10</th>\n",
              "      <td>-0.003312</td>\n",
              "    </tr>\n",
              "    <tr>\n",
              "      <th>2021-08-11</th>\n",
              "      <td>-0.003312</td>\n",
              "    </tr>\n",
              "    <tr>\n",
              "      <th>2021-08-12</th>\n",
              "      <td>-0.003312</td>\n",
              "    </tr>\n",
              "    <tr>\n",
              "      <th>2021-08-13</th>\n",
              "      <td>-0.003312</td>\n",
              "    </tr>\n",
              "    <tr>\n",
              "      <th>2021-08-14</th>\n",
              "      <td>-0.003312</td>\n",
              "    </tr>\n",
              "  </tbody>\n",
              "</table>\n",
              "<p>800 rows × 1 columns</p>\n",
              "</div>"
            ],
            "text/plain": [
              "            predicted BTC log returns\n",
              "Date                                 \n",
              "2019-06-07                  -0.004390\n",
              "2019-06-08                   0.000495\n",
              "2019-06-09                  -0.003015\n",
              "2019-06-10                  -0.003965\n",
              "2019-06-11                  -0.003382\n",
              "...                               ...\n",
              "2021-08-10                  -0.003312\n",
              "2021-08-11                  -0.003312\n",
              "2021-08-12                  -0.003312\n",
              "2021-08-13                  -0.003312\n",
              "2021-08-14                  -0.003312\n",
              "\n",
              "[800 rows x 1 columns]"
            ]
          },
          "metadata": {
            "tags": []
          },
          "execution_count": 135
        }
      ]
    },
    {
      "cell_type": "markdown",
      "metadata": {
        "id": "30lPZzmUkN3u"
      },
      "source": [
        "## Mannual ARIMA"
      ]
    },
    {
      "cell_type": "code",
      "metadata": {
        "colab": {
          "base_uri": "https://localhost:8080/"
        },
        "id": "i05g9eWaSotb",
        "outputId": "857e3828-8eed-4a98-ce96-6378e592df88"
      },
      "source": [
        "from statsmodels.tsa.arima.model import ARIMA\n",
        "from matplotlib import pyplot\n",
        "from sklearn.metrics import mean_squared_error\n",
        "from math import sqrt\n",
        "\n",
        "\n",
        "# fit model\n",
        "model = ARIMA(train, order=(4,1,1))\n",
        "model_fit = model.fit()\n",
        "# summary of fit model\n",
        "print(model_fit.summary())"
      ],
      "execution_count": null,
      "outputs": [
        {
          "output_type": "stream",
          "text": [
            "/usr/local/lib/python3.7/dist-packages/statsmodels/tsa/base/tsa_model.py:527: ValueWarning: No frequency information was provided, so inferred frequency D will be used.\n",
            "  % freq, ValueWarning)\n",
            "/usr/local/lib/python3.7/dist-packages/statsmodels/tsa/base/tsa_model.py:527: ValueWarning: No frequency information was provided, so inferred frequency D will be used.\n",
            "  % freq, ValueWarning)\n",
            "/usr/local/lib/python3.7/dist-packages/statsmodels/tsa/base/tsa_model.py:527: ValueWarning: No frequency information was provided, so inferred frequency D will be used.\n",
            "  % freq, ValueWarning)\n"
          ],
          "name": "stderr"
        },
        {
          "output_type": "stream",
          "text": [
            "                               SARIMAX Results                                \n",
            "==============================================================================\n",
            "Dep. Variable:                log_ret   No. Observations:                 2879\n",
            "Model:                 ARIMA(4, 1, 1)   Log Likelihood                3750.013\n",
            "Date:                Mon, 16 Aug 2021   AIC                          -7488.027\n",
            "Time:                        11:34:53   BIC                          -7452.238\n",
            "Sample:                    01-01-2011   HQIC                         -7475.126\n",
            "                         - 11-18-2018                                         \n",
            "Covariance Type:                  opg                                         \n",
            "==============================================================================\n",
            "                 coef    std err          z      P>|z|      [0.025      0.975]\n",
            "------------------------------------------------------------------------------\n",
            "ar.L1          0.0308      0.010      3.207      0.001       0.012       0.050\n",
            "ar.L2         -0.1572      0.006    -24.545      0.000      -0.170      -0.145\n",
            "ar.L3          0.0025      0.010      0.249      0.803      -0.017       0.023\n",
            "ar.L4          0.1304      0.007     18.858      0.000       0.117       0.144\n",
            "ma.L1         -0.9984      0.002   -495.241      0.000      -1.002      -0.994\n",
            "sigma2         0.0043    3.3e-05    130.836      0.000       0.004       0.004\n",
            "===================================================================================\n",
            "Ljung-Box (L1) (Q):                   0.51   Jarque-Bera (JB):            561809.25\n",
            "Prob(Q):                              0.48   Prob(JB):                         0.00\n",
            "Heteroskedasticity (H):               0.33   Skew:                            -1.96\n",
            "Prob(H) (two-sided):                  0.00   Kurtosis:                        71.34\n",
            "===================================================================================\n",
            "\n",
            "Warnings:\n",
            "[1] Covariance matrix calculated using the outer product of gradients (complex-step).\n"
          ],
          "name": "stdout"
        },
        {
          "output_type": "stream",
          "text": [
            "/usr/local/lib/python3.7/dist-packages/statsmodels/base/model.py:568: ConvergenceWarning: Maximum Likelihood optimization failed to converge. Check mle_retvals\n",
            "  ConvergenceWarning)\n"
          ],
          "name": "stderr"
        }
      ]
    },
    {
      "cell_type": "code",
      "metadata": {
        "colab": {
          "base_uri": "https://localhost:8080/",
          "height": 419
        },
        "id": "xOQBBECJrJ8N",
        "outputId": "4b51552f-fe5b-4dfb-acb9-491e4cd046bc"
      },
      "source": [
        "output = pd.DataFrame(model_fit.forecast(steps = 100))\n",
        "output"
      ],
      "execution_count": null,
      "outputs": [
        {
          "output_type": "execute_result",
          "data": {
            "text/html": [
              "<div>\n",
              "<style scoped>\n",
              "    .dataframe tbody tr th:only-of-type {\n",
              "        vertical-align: middle;\n",
              "    }\n",
              "\n",
              "    .dataframe tbody tr th {\n",
              "        vertical-align: top;\n",
              "    }\n",
              "\n",
              "    .dataframe thead th {\n",
              "        text-align: right;\n",
              "    }\n",
              "</style>\n",
              "<table border=\"1\" class=\"dataframe\">\n",
              "  <thead>\n",
              "    <tr style=\"text-align: right;\">\n",
              "      <th></th>\n",
              "      <th>predicted_mean</th>\n",
              "    </tr>\n",
              "  </thead>\n",
              "  <tbody>\n",
              "    <tr>\n",
              "      <th>2018-11-19</th>\n",
              "      <td>0.005966</td>\n",
              "    </tr>\n",
              "    <tr>\n",
              "      <th>2018-11-20</th>\n",
              "      <td>-0.024131</td>\n",
              "    </tr>\n",
              "    <tr>\n",
              "      <th>2018-11-21</th>\n",
              "      <td>-0.003641</td>\n",
              "    </tr>\n",
              "    <tr>\n",
              "      <th>2018-11-22</th>\n",
              "      <td>0.021404</td>\n",
              "    </tr>\n",
              "    <tr>\n",
              "      <th>2018-11-23</th>\n",
              "      <td>0.000458</td>\n",
              "    </tr>\n",
              "    <tr>\n",
              "      <th>...</th>\n",
              "      <td>...</td>\n",
              "    </tr>\n",
              "    <tr>\n",
              "      <th>2019-02-22</th>\n",
              "      <td>-0.001500</td>\n",
              "    </tr>\n",
              "    <tr>\n",
              "      <th>2019-02-23</th>\n",
              "      <td>-0.001500</td>\n",
              "    </tr>\n",
              "    <tr>\n",
              "      <th>2019-02-24</th>\n",
              "      <td>-0.001500</td>\n",
              "    </tr>\n",
              "    <tr>\n",
              "      <th>2019-02-25</th>\n",
              "      <td>-0.001500</td>\n",
              "    </tr>\n",
              "    <tr>\n",
              "      <th>2019-02-26</th>\n",
              "      <td>-0.001500</td>\n",
              "    </tr>\n",
              "  </tbody>\n",
              "</table>\n",
              "<p>100 rows × 1 columns</p>\n",
              "</div>"
            ],
            "text/plain": [
              "            predicted_mean\n",
              "2018-11-19        0.005966\n",
              "2018-11-20       -0.024131\n",
              "2018-11-21       -0.003641\n",
              "2018-11-22        0.021404\n",
              "2018-11-23        0.000458\n",
              "...                    ...\n",
              "2019-02-22       -0.001500\n",
              "2019-02-23       -0.001500\n",
              "2019-02-24       -0.001500\n",
              "2019-02-25       -0.001500\n",
              "2019-02-26       -0.001500\n",
              "\n",
              "[100 rows x 1 columns]"
            ]
          },
          "metadata": {
            "tags": []
          },
          "execution_count": 251
        }
      ]
    },
    {
      "cell_type": "code",
      "metadata": {
        "colab": {
          "base_uri": "https://localhost:8080/",
          "height": 322
        },
        "id": "6_Z_nkNJq30g",
        "outputId": "1df6fd63-3cdf-453a-feca-f53e44ba46f4"
      },
      "source": [
        "import matplotlib.pyplot as plt\n",
        "\n",
        "plt.figure(figsize=(8,5))\n",
        "\n",
        "plt.plot(output,label='Fitted')\n",
        "plt.legend()\n",
        "plt.show()"
      ],
      "execution_count": null,
      "outputs": [
        {
          "output_type": "display_data",
          "data": {
            "image/png": "[encoded data removed]",
            "text/plain": [
              "<Figure size 576x360 with 1 Axes>"
            ]
          },
          "metadata": {
            "tags": []
          }
        }
      ]
    },
    {
      "cell_type": "code",
      "metadata": {
        "colab": {
          "base_uri": "https://localhost:8080/"
        },
        "id": "aA4b4I7JUAiH",
        "outputId": "a818bcd8-eff3-4d8c-8a2c-8c6d6f6c5e90"
      },
      "source": [
        "from sklearn.metrics import mean_squared_error\n",
        "\n",
        "print('In-sample RMSE: ',np.sqrt(mean_squared_error(train,model_fit.fittedvalues)))\n",
        "print(\"Out-of-sample RMSE: \",np.sqrt(mean_squared_error(test,output['predicted_mean'])))\n"
      ],
      "execution_count": null,
      "outputs": [
        {
          "output_type": "stream",
          "text": [
            "In-sample RMSE:  0.06721182710252004\n",
            "Out-of-sample RMSE:  0.03972295654279431\n"
          ],
          "name": "stdout"
        }
      ]
    },
    {
      "cell_type": "code",
      "metadata": {
        "colab": {
          "base_uri": "https://localhost:8080/"
        },
        "id": "27BpSvuNdiax",
        "outputId": "473f79f7-9f94-4315-cf11-dff43bcbd088"
      },
      "source": [
        "ptg = pd.DataFrame(np.abs((test['log_ret'] - output['predicted_mean']))/np.abs(test['log_ret']))\n",
        "ptg.replace([np.inf, -np.inf], np.nan, inplace=True)\n",
        "ptg = ptg.dropna()\n",
        "ptg.mean()"
      ],
      "execution_count": null,
      "outputs": [
        {
          "output_type": "execute_result",
          "data": {
            "text/plain": [
              "0    1.611395\n",
              "dtype: float64"
            ]
          },
          "metadata": {
            "tags": []
          },
          "execution_count": 215
        }
      ]
    },
    {
      "cell_type": "markdown",
      "metadata": {
        "id": "uk90QvHc9IpI"
      },
      "source": [
        "# ARIMA NEW"
      ]
    },
    {
      "cell_type": "markdown",
      "metadata": {
        "id": "IrVB9d5z9Qc-"
      },
      "source": [
        "##Importing necessary libraries"
      ]
    },
    {
      "cell_type": "code",
      "metadata": {
        "id": "kxslNRkykkFf"
      },
      "source": [
        "import pandas as kunfu\n",
        "import numpy as dragon\n",
        "import pylab as p\n",
        "import matplotlib.pyplot as plot\n",
        "from collections import Counter\n",
        "import re\n",
        "\n",
        "#importing packages for the prediction of time-series data\n",
        "import statsmodels.api as sm\n",
        "import statsmodels.tsa.api as smt\n",
        "import statsmodels.formula.api as smf\n",
        "\n",
        "from sklearn.metrics import mean_squared_error"
      ],
      "execution_count": null,
      "outputs": []
    },
    {
      "cell_type": "markdown",
      "metadata": {
        "id": "QSB0S7Y6FIEt"
      },
      "source": [
        "## Data Processing"
      ]
    },
    {
      "cell_type": "code",
      "metadata": {
        "colab": {
          "base_uri": "https://localhost:8080/",
          "height": 439
        },
        "id": "s4WdDUou9S2r",
        "outputId": "61f4b485-7582-476c-c1bf-6d192e9cadd0"
      },
      "source": [
        "btc_new = btc.copy()\n",
        "data = btc_new['Price']\n",
        "Date1 = btc_new['Date']\n",
        "train1 = btc_new[['Date','Price']]\n",
        "# Setting the Date as Index\n",
        "train2 = train1.set_index('Date')\n",
        "train2.sort_index(inplace=True)\n",
        "print (type(train2))\n",
        "print (train2.head())\n",
        "plot.plot(train2)\n",
        "plot.xlabel('Date', fontsize=12)\n",
        "plot.ylabel('Price in USD', fontsize=12)\n",
        "plot.title(\"Closing price distribution of bitcoin\", fontsize=15)\n",
        "plot.show()"
      ],
      "execution_count": null,
      "outputs": [
        {
          "output_type": "stream",
          "text": [
            "<class 'pandas.core.frame.DataFrame'>\n",
            "            Price\n",
            "Date             \n",
            "2011-01-01    0.3\n",
            "2011-01-02    0.3\n",
            "2011-01-03    0.3\n",
            "2011-01-04    0.3\n",
            "2011-01-05    0.3\n"
          ],
          "name": "stdout"
        },
        {
          "output_type": "display_data",
          "data": {
            "image/png": "[encoded data removed]",
            "text/plain": [
              "<Figure size 576x288 with 1 Axes>"
            ]
          },
          "metadata": {
            "tags": []
          }
        }
      ]
    },
    {
      "cell_type": "code",
      "metadata": {
        "colab": {
          "base_uri": "https://localhost:8080/",
          "height": 403
        },
        "id": "ukD_OvLu9fQo",
        "outputId": "0397cd33-7e8c-4cbe-c82d-c21e06e4de23"
      },
      "source": [
        "from statsmodels.tsa.stattools import adfuller\n",
        "\n",
        "def test_stationarity(x):\n",
        "\n",
        "\n",
        "    #Determing rolling statistics\n",
        "    rolmean = x.rolling(window=22,center=False).mean()\n",
        "\n",
        "    rolstd = x.rolling(window=12,center=False).std()\n",
        "    \n",
        "    #Plot rolling statistics:\n",
        "    orig = plot.plot(x, color='blue',label='Original')\n",
        "    mean = plot.plot(rolmean, color='red', label='Rolling Mean')\n",
        "    std = plot.plot(rolstd, color='black', label = 'Rolling Std')\n",
        "    plot.legend(loc='best')\n",
        "    plot.title('Rolling Mean & Standard Deviation')\n",
        "    plot.show(block=False)\n",
        "    \n",
        "    #Perform Dickey Fuller test    \n",
        "    result=adfuller(x)\n",
        "    print('ADF Stastistic: %f'%result[0])\n",
        "    print('p-value: %f'%result[1])\n",
        "    pvalue=result[1]\n",
        "    for key,value in result[4].items():\n",
        "         if result[0]>value:\n",
        "            print(\"The graph is non stationery\")\n",
        "            break\n",
        "         else:\n",
        "            print(\"The graph is stationery\")\n",
        "            break;\n",
        "    print('Critical values:')\n",
        "    for key,value in result[4].items():\n",
        "        print('\\t%s: %.3f ' % (key, value))\n",
        "        \n",
        "ts = train2['Price']      \n",
        "test_stationarity(ts)"
      ],
      "execution_count": null,
      "outputs": [
        {
          "output_type": "display_data",
          "data": {
            "image/png": "[encoded data removed]",
            "text/plain": [
              "<Figure size 576x288 with 1 Axes>"
            ]
          },
          "metadata": {
            "tags": []
          }
        },
        {
          "output_type": "stream",
          "text": [
            "ADF Stastistic: 0.330864\n",
            "p-value: 0.978717\n",
            "The graph is non stationery\n",
            "Critical values:\n",
            "\t1%: -3.432 \n",
            "\t5%: -2.862 \n",
            "\t10%: -2.567 \n"
          ],
          "name": "stdout"
        }
      ]
    },
    {
      "cell_type": "markdown",
      "metadata": {
        "id": "IsLULSlz-y-B"
      },
      "source": [
        "## Log Transforming the series\n",
        "\n",
        "Log transformation is used to unskew highly skewed data. Thus helping in forecasting process."
      ]
    },
    {
      "cell_type": "code",
      "metadata": {
        "colab": {
          "base_uri": "https://localhost:8080/",
          "height": 654
        },
        "id": "cQODE587-pks",
        "outputId": "0441a8f7-95ea-4bc3-b19f-19a3779f239a"
      },
      "source": [
        "ts_log = dragon.log(ts)\n",
        "plot.plot(ts_log,color=\"green\")\n",
        "plot.show()\n",
        "\n",
        "test_stationarity(ts_log)"
      ],
      "execution_count": null,
      "outputs": [
        {
          "output_type": "display_data",
          "data": {
            "image/png": "[encoded data removed]",
            "text/plain": [
              "<Figure size 576x288 with 1 Axes>"
            ]
          },
          "metadata": {
            "tags": []
          }
        },
        {
          "output_type": "display_data",
          "data": {
            "image/png": "[encoded data removed]",
            "text/plain": [
              "<Figure size 576x288 with 1 Axes>"
            ]
          },
          "metadata": {
            "tags": []
          }
        },
        {
          "output_type": "stream",
          "text": [
            "ADF Stastistic: -2.375052\n",
            "p-value: 0.148902\n",
            "The graph is non stationery\n",
            "Critical values:\n",
            "\t1%: -3.432 \n",
            "\t5%: -2.862 \n",
            "\t10%: -2.567 \n"
          ],
          "name": "stdout"
        }
      ]
    },
    {
      "cell_type": "markdown",
      "metadata": {
        "id": "QTmIcTdQ_Bdq"
      },
      "source": [
        "##Remove trend and seasonality with differencing\n",
        "In case of differencing to make the time series stationary the current value is subtracted with the previous values. Due to this the mean is stabilized and hence the chances of stationarity of time series are increased."
      ]
    },
    {
      "cell_type": "code",
      "metadata": {
        "colab": {
          "base_uri": "https://localhost:8080/",
          "height": 268
        },
        "id": "Yf0EBOF7-6zb",
        "outputId": "2281a2d7-445f-4710-a819-32415f4ac139"
      },
      "source": [
        "ts_log_diff = ts_log - ts_log.shift()\n",
        "plot.plot(ts_log_diff)\n",
        "plot.show()"
      ],
      "execution_count": null,
      "outputs": [
        {
          "output_type": "display_data",
          "data": {
            "image/png": "[encoded data removed]",
            "text/plain": [
              "<Figure size 576x288 with 1 Axes>"
            ]
          },
          "metadata": {
            "tags": []
          }
        }
      ]
    },
    {
      "cell_type": "code",
      "metadata": {
        "colab": {
          "base_uri": "https://localhost:8080/",
          "height": 403
        },
        "id": "biPXoGW6_Ee8",
        "outputId": "46aea2ad-be73-4fde-ea9d-d33a2f8eff44"
      },
      "source": [
        "ts_log_diff.dropna(inplace=True)\n",
        "test_stationarity(ts_log_diff)"
      ],
      "execution_count": null,
      "outputs": [
        {
          "output_type": "display_data",
          "data": {
            "image/png": "[encoded data removed]",
            "text/plain": [
              "<Figure size 576x288 with 1 Axes>"
            ]
          },
          "metadata": {
            "tags": []
          }
        },
        {
          "output_type": "stream",
          "text": [
            "ADF Stastistic: -17.627147\n",
            "p-value: 0.000000\n",
            "The graph is stationery\n",
            "Critical values:\n",
            "\t1%: -3.432 \n",
            "\t5%: -2.862 \n",
            "\t10%: -2.567 \n"
          ],
          "name": "stdout"
        }
      ]
    },
    {
      "cell_type": "markdown",
      "metadata": {
        "id": "SgzhAd1C_LUe"
      },
      "source": [
        "## Auto Regressive model"
      ]
    },
    {
      "cell_type": "code",
      "metadata": {
        "colab": {
          "base_uri": "https://localhost:8080/"
        },
        "id": "uoINnJj0_Hoz",
        "outputId": "4391455d-d468-4d3c-8ea4-fa7b4d835472"
      },
      "source": [
        "from statsmodels.tsa.arima_model import ARIMA\n",
        "\n",
        "size = int(len(ts_log)-800)\n",
        "# Divide into train and test\n",
        "train_arima, test_arima = ts_log[0:size], ts_log[size:len(ts_log)]\n",
        "history = [x for x in train_arima]\n",
        "predictions = list()\n",
        "originals = list()\n",
        "error_list = list()\n",
        "\n",
        "print('Printing Predicted vs Expected Values...')\n",
        "print('\\n')"
      ],
      "execution_count": null,
      "outputs": [
        {
          "output_type": "stream",
          "text": [
            "Printing Predicted vs Expected Values...\n",
            "\n",
            "\n"
          ],
          "name": "stdout"
        }
      ]
    },
    {
      "cell_type": "code",
      "metadata": {
        "colab": {
          "base_uri": "https://localhost:8080/",
          "height": 1000
        },
        "id": "UM_MnjVb_POQ",
        "outputId": "e8dbcc65-e81e-48fe-d462-3dcfa58a2702"
      },
      "source": [
        "# We go over each value in the test set and then apply ARIMA model and calculate the predicted value. We have the expected value in the test set therefore we calculate the error between predicted and expected value \n",
        "for t in range(len(test_arima)):\n",
        "    model = ARIMA(history, order=(5, 1, 0))\n",
        "    model_fit = model.fit(disp=-1)\n",
        "    \n",
        "    output = model_fit.forecast()\n",
        "    \n",
        "    pred_value = output[0]\n",
        "    original_value = test_arima[t]\n",
        "    history.append(original_value)\n",
        "    pred_value = dragon.exp(pred_value)\n",
        "    original_value = dragon.exp(original_value)\n",
        "    # Calculating the error\n",
        "    error = ((abs(pred_value - original_value)) / original_value) * 100\n",
        "    error_list.append(error)\n",
        "    print('predicted = %f,   expected = %f,   error = %f ' % (pred_value, original_value, error), '%')\n",
        "    predictions.append(float(pred_value))\n",
        "    originals.append(float(original_value))\n",
        "    \n",
        "# After iterating over whole test set the overall mean error is calculated.   \n",
        "print('\\n Mean Error in Predicting Test Case Articles : %f ' % (sum(error_list)/float(len(error_list))), '%')\n",
        "plot.figure(figsize=(8, 6))\n",
        "test_day = [t\n",
        "           for t in range(len(test_arima))]\n",
        "labels={'Orginal','Predicted'}\n",
        "plot.plot(test_day, predictions, color= 'green')\n",
        "plot.plot(test_day, originals, color = 'orange')\n",
        "plot.title('Expected Vs Predicted Views Forecasting')\n",
        "plot.xlabel('Day')\n",
        "plot.ylabel('Closing Price')\n",
        "plot.legend(labels)\n",
        "plot.show()"
      ],
      "execution_count": null,
      "outputs": [
        {
          "output_type": "stream",
          "text": [
            "/usr/local/lib/python3.7/dist-packages/statsmodels/tsa/arima_model.py:472: FutureWarning: \n",
            "statsmodels.tsa.arima_model.ARMA and statsmodels.tsa.arima_model.ARIMA have\n",
            "been deprecated in favor of statsmodels.tsa.arima.model.ARIMA (note the .\n",
            "between arima and model) and\n",
            "statsmodels.tsa.SARIMAX. These will be removed after the 0.12 release.\n",
            "\n",
            "statsmodels.tsa.arima.model.ARIMA makes use of the statespace framework and\n",
            "is both well tested and maintained.\n",
            "\n",
            "To silence this warning and continue using ARMA and ARIMA until they are\n",
            "removed, use:\n",
            "\n",
            "import warnings\n",
            "warnings.filterwarnings('ignore', 'statsmodels.tsa.arima_model.ARMA',\n",
            "                        FutureWarning)\n",
            "warnings.filterwarnings('ignore', 'statsmodels.tsa.arima_model.ARIMA',\n",
            "                        FutureWarning)\n",
            "\n",
            "  warnings.warn(ARIMA_DEPRECATION_WARN, FutureWarning)\n"
          ],
          "name": "stderr"
        },
        {
          "output_type": "stream",
          "text": [
            "predicted = 7903.818291,   expected = 7901.400000,   error = 0.030606  %\n",
            "predicted = 7864.817598,   expected = 7635.000000,   error = 3.010054  %\n",
            "predicted = 7678.005022,   expected = 7987.800000,   error = 3.878352  %\n",
            "predicted = 8084.640700,   expected = 7888.000000,   error = 2.492909  %\n",
            "predicted = 7859.222535,   expected = 8133.100000,   error = 3.367442  %\n",
            "predicted = 8139.453548,   expected = 8219.000000,   error = 0.967836  %\n",
            "predicted = 8226.303764,   expected = 8656.100000,   error = 4.965241  %\n",
            "predicted = 8702.519106,   expected = 8812.500000,   error = 1.248010  %\n",
            "predicted = 8798.219613,   expected = 8962.500000,   error = 1.832975  %\n",
            "predicted = 9012.969941,   expected = 9318.800000,   error = 3.281861  %\n",
            "predicted = 9403.117076,   expected = 9080.600000,   error = 3.551715  %\n",
            "predicted = 9117.427080,   expected = 9255.400000,   error = 1.490729  %\n",
            "predicted = 9364.335477,   expected = 9517.000000,   error = 1.604124  %\n",
            "predicted = 9580.948549,   expected = 10179.300000,   error = 5.878120  %\n",
            "predicted = 10185.079423,   expected = 10721.700000,   error = 5.004995  %\n",
            "predicted = 10660.422895,   expected = 10897.100000,   error = 2.171927  %\n",
            "predicted = 10918.520892,   expected = 11046.400000,   error = 1.157654  %\n",
            "predicted = 11189.867776,   expected = 11809.900000,   error = 5.250106  %\n",
            "predicted = 11992.495488,   expected = 13063.800000,   error = 8.200558  %\n",
            "predicted = 13089.404523,   expected = 11287.800000,   error = 15.960635  %\n",
            "predicted = 11172.942006,   expected = 12409.100000,   error = 9.961705  %\n",
            "predicted = 12891.171040,   expected = 11906.500000,   error = 8.270029  %\n",
            "predicted = 11966.424000,   expected = 10818.600000,   error = 10.609728  %\n",
            "predicted = 10821.438670,   expected = 10616.600000,   error = 1.929419  %\n",
            "predicted = 10776.429127,   expected = 10835.900000,   error = 0.548832  %\n",
            "predicted = 10922.689451,   expected = 11900.800000,   error = 8.218864  %\n",
            "predicted = 11724.196055,   expected = 11163.100000,   error = 5.026346  %\n",
            "predicted = 10908.994592,   expected = 10970.200000,   error = 0.557924  %\n",
            "predicted = 11134.564613,   expected = 11268.000000,   error = 1.184198  %\n",
            "predicted = 11482.153991,   expected = 11415.900000,   error = 0.580366  %\n",
            "predicted = 11410.023056,   expected = 12252.600000,   error = 6.876720  %\n",
            "predicted = 12184.150134,   expected = 12541.500000,   error = 2.849339  %\n",
            "predicted = 12476.151543,   expected = 12110.600000,   error = 3.018443  %\n",
            "predicted = 12164.205423,   expected = 11342.300000,   error = 7.246374  %\n",
            "predicted = 11547.344055,   expected = 11762.100000,   error = 1.825830  %\n",
            "predicted = 12029.297316,   expected = 11364.900000,   error = 5.846046  %\n",
            "predicted = 11293.074486,   expected = 10200.100000,   error = 10.715331  %\n",
            "predicted = 10154.872925,   expected = 10845.900000,   error = 6.371321  %\n",
            "predicted = 11044.782676,   expected = 9424.800000,   error = 17.188510  %\n",
            "predicted = 9320.752583,   expected = 9723.200000,   error = 4.139043  %\n",
            "predicted = 9806.848435,   expected = 10651.400000,   error = 7.929019  %\n",
            "predicted = 10593.918625,   expected = 10571.500000,   error = 0.212067  %\n",
            "predicted = 10339.969833,   expected = 10826.700000,   error = 4.495647  %\n",
            "predicted = 10792.376967,   expected = 10714.400000,   error = 0.727777  %\n",
            "predicted = 10860.186334,   expected = 10412.500000,   error = 4.299509  %\n",
            "predicted = 10541.064431,   expected = 9888.700000,   error = 6.597070  %\n",
            "predicted = 9974.662765,   expected = 9804.300000,   error = 1.737633  %\n",
            "predicted = 9913.127799,   expected = 9945.300000,   error = 0.323492  %\n",
            "predicted = 9935.233297,   expected = 9831.000000,   error = 1.060251  %\n",
            "predicted = 9746.650076,   expected = 9492.100000,   error = 2.681705  %\n",
            "predicted = 9478.463831,   expected = 9727.800000,   error = 2.563130  %\n",
            "predicted = 9819.421162,   expected = 9580.900000,   error = 2.489549  %\n",
            "predicted = 9564.874617,   expected = 9580.700000,   error = 0.165180  %\n",
            "predicted = 9582.974610,   expected = 10082.000000,   error = 4.949667  %\n",
            "predicted = 10114.363047,   expected = 10380.000000,   error = 2.559123  %\n",
            "predicted = 10339.932026,   expected = 10520.100000,   error = 1.712607  %\n",
            "predicted = 10502.444978,   expected = 10815.700000,   error = 2.896299  %\n",
            "predicted = 10905.833294,   expected = 10934.600000,   error = 0.263080  %\n",
            "predicted = 11018.757399,   expected = 11816.800000,   error = 6.753458  %\n",
            "predicted = 11904.784645,   expected = 11480.900000,   error = 3.692086  %\n",
            "predicted = 11433.868512,   expected = 12013.900000,   error = 4.828003  %\n",
            "predicted = 12175.835748,   expected = 12191.600000,   error = 0.129304  %\n",
            "predicted = 12272.988337,   expected = 12089.800000,   error = 1.515230  %\n",
            "predicted = 12153.212982,   expected = 11314.500000,   error = 7.412727  %\n",
            "predicted = 11389.530682,   expected = 11517.200000,   error = 1.108510  %\n",
            "predicted = 11739.665174,   expected = 11394.200000,   error = 3.031939  %\n",
            "predicted = 11386.383494,   expected = 10892.900000,   error = 4.530322  %\n",
            "predicted = 10840.839569,   expected = 10049.400000,   error = 7.875491  %\n",
            "predicted = 10093.828241,   expected = 10303.400000,   error = 2.034006  %\n",
            "predicted = 10457.851320,   expected = 10335.600000,   error = 1.182818  %\n",
            "predicted = 10244.372476,   expected = 10218.100000,   error = 0.257117  %\n",
            "predicted = 10100.867750,   expected = 10312.700000,   error = 2.054091  %\n",
            "predicted = 10317.905851,   expected = 10910.700000,   error = 5.433145  %\n",
            "predicted = 10964.397731,   expected = 10752.600000,   error = 1.969735  %\n",
            "predicted = 10681.438515,   expected = 10141.500000,   error = 5.324050  %\n",
            "predicted = 10197.113317,   expected = 10105.000000,   error = 0.911562  %\n",
            "predicted = 10302.705859,   expected = 10388.700000,   error = 0.827766  %\n",
            "predicted = 10453.590807,   expected = 10131.000000,   error = 3.184195  %\n",
            "predicted = 10026.866466,   expected = 10136.300000,   error = 1.079620  %\n",
            "predicted = 10150.254691,   expected = 10371.800000,   error = 2.136035  %\n",
            "predicted = 10433.250562,   expected = 10184.800000,   error = 2.439425  %\n",
            "predicted = 10171.329951,   expected = 9729.400000,   error = 4.542212  %\n",
            "predicted = 9760.595928,   expected = 9491.000000,   error = 2.840543  %\n",
            "predicted = 9606.118147,   expected = 9585.400000,   error = 0.216143  %\n",
            "predicted = 9641.106410,   expected = 9594.400000,   error = 0.486809  %\n",
            "predicted = 9532.875607,   expected = 9729.300000,   error = 2.018895  %\n",
            "predicted = 9688.865618,   expected = 10348.800000,   error = 6.376917  %\n",
            "predicted = 10356.390849,   expected = 10612.300000,   error = 2.411439  %\n",
            "predicted = 10563.233750,   expected = 10568.200000,   error = 0.046992  %\n",
            "predicted = 10590.673725,   expected = 10566.900000,   error = 0.224983  %\n",
            "predicted = 10706.338908,   expected = 10309.300000,   error = 3.851269  %\n",
            "predicted = 10427.425609,   expected = 10461.100000,   error = 0.321901  %\n",
            "predicted = 10552.218085,   expected = 10402.800000,   error = 1.436326  %\n",
            "predicted = 10401.080347,   expected = 10309.000000,   error = 0.893203  %\n",
            "predicted = 10317.499320,   expected = 10105.400000,   error = 2.098871  %\n",
            "predicted = 10140.636186,   expected = 10162.500000,   error = 0.215142  %\n",
            "predicted = 10228.815492,   expected = 10415.100000,   error = 1.788600  %\n",
            "predicted = 10419.780725,   expected = 10342.100000,   error = 0.751112  %\n",
            "predicted = 10300.125562,   expected = 10337.300000,   error = 0.359615  %\n",
            "predicted = 10371.742093,   expected = 10311.500000,   error = 0.584222  %\n",
            "predicted = 10378.351407,   expected = 10255.500000,   error = 1.197908  %\n",
            "predicted = 10302.969495,   expected = 10195.700000,   error = 1.052105  %\n",
            "predicted = 10225.595318,   expected = 10164.700000,   error = 0.599086  %\n",
            "predicted = 10198.527653,   expected = 10250.500000,   error = 0.507023  %\n",
            "predicted = 10276.205266,   expected = 10172.700000,   error = 1.017481  %\n",
            "predicted = 10175.554802,   expected = 9993.000000,   error = 1.826827  %\n",
            "predicted = 10023.588764,   expected = 10031.600000,   error = 0.079860  %\n",
            "predicted = 10095.035655,   expected = 9702.200000,   error = 4.048934  %\n",
            "predicted = 9715.335091,   expected = 8513.900000,   error = 14.111454  %\n",
            "predicted = 8540.086392,   expected = 8432.400000,   error = 1.277055  %\n",
            "predicted = 8607.404295,   expected = 8063.800000,   error = 6.741292  %\n",
            "predicted = 8042.042641,   expected = 8184.900000,   error = 1.745377  %\n",
            "predicted = 8103.978932,   expected = 8208.500000,   error = 1.273327  %\n",
            "predicted = 8099.193776,   expected = 8049.100000,   error = 0.622353  %\n",
            "predicted = 8016.277725,   expected = 8284.300000,   error = 3.235304  %\n",
            "predicted = 8317.817665,   expected = 8302.700000,   error = 0.182081  %\n",
            "predicted = 8302.465449,   expected = 8364.100000,   error = 0.736894  %\n",
            "predicted = 8372.451654,   expected = 8226.900000,   error = 1.769216  %\n",
            "predicted = 8254.683085,   expected = 8148.100000,   error = 1.308073  %\n",
            "predicted = 8215.730254,   expected = 8127.300000,   error = 1.088064  %\n",
            "predicted = 8168.706293,   expected = 7881.900000,   error = 3.638796  %\n",
            "predicted = 7891.325246,   expected = 8198.600000,   error = 3.747893  %\n",
            "predicted = 8241.742315,   expected = 8182.900000,   error = 0.719089  %\n",
            "predicted = 8143.445484,   expected = 8566.700000,   error = 4.940695  %\n",
            "predicted = 8570.916530,   expected = 8562.300000,   error = 0.100633  %\n",
            "predicted = 8546.151466,   expected = 8267.800000,   error = 3.366693  %\n",
            "predicted = 8323.152958,   expected = 8304.400000,   error = 0.225820  %\n",
            "predicted = 8419.112905,   expected = 8281.500000,   error = 1.661691  %\n",
            "predicted = 8328.637622,   expected = 8353.300000,   error = 0.295241  %\n",
            "predicted = 8345.370070,   expected = 8167.200000,   error = 2.181532  %\n",
            "predicted = 8154.992936,   expected = 8000.400000,   error = 1.932315  %\n",
            "predicted = 8049.574776,   expected = 8073.300000,   error = 0.293873  %\n",
            "predicted = 8125.727321,   expected = 7948.500000,   error = 2.229695  %\n",
            "predicted = 7939.324219,   expected = 7957.300000,   error = 0.225903  %\n",
            "predicted = 7962.754933,   expected = 8223.400000,   error = 3.169554  %\n",
            "predicted = 8240.839550,   expected = 8208.200000,   error = 0.397646  %\n",
            "predicted = 8182.141396,   expected = 8031.400000,   error = 1.876901  %\n",
            "predicted = 8048.399323,   expected = 7477.000000,   error = 7.642093  %\n",
            "predicted = 7546.079268,   expected = 7422.700000,   error = 1.662189  %\n",
            "predicted = 7540.826307,   expected = 8658.300000,   error = 12.906387  %\n",
            "predicted = 8675.993584,   expected = 9230.600000,   error = 6.008346  %\n",
            "predicted = 8954.865488,   expected = 9529.600000,   error = 6.031045  %\n",
            "predicted = 9426.325613,   expected = 9207.200000,   error = 2.379938  %\n",
            "predicted = 9367.563066,   expected = 9411.300000,   error = 0.464728  %\n",
            "predicted = 9709.404442,   expected = 9157.900000,   error = 6.022171  %\n",
            "predicted = 9235.324618,   expected = 9152.600000,   error = 0.903837  %\n",
            "predicted = 9207.407609,   expected = 9230.100000,   error = 0.245852  %\n",
            "predicted = 9250.363895,   expected = 9300.600000,   error = 0.540138  %\n",
            "predicted = 9303.765855,   expected = 9198.300000,   error = 1.146580  %\n",
            "predicted = 9190.391055,   expected = 9396.400000,   error = 2.192424  %\n",
            "predicted = 9452.990543,   expected = 9310.800000,   error = 1.527157  %\n",
            "predicted = 9320.853744,   expected = 9338.900000,   error = 0.193237  %\n",
            "predicted = 9376.229752,   expected = 9223.500000,   error = 1.655876  %\n",
            "predicted = 9257.804559,   expected = 8778.200000,   error = 5.463587  %\n",
            "predicted = 8820.479708,   expected = 8804.500000,   error = 0.181495  %\n",
            "predicted = 8889.580212,   expected = 9036.800000,   error = 1.629114  %\n",
            "predicted = 9042.975872,   expected = 8736.900000,   error = 3.503255  %\n",
            "predicted = 8660.141016,   expected = 8812.600000,   error = 1.730011  %\n",
            "predicted = 8850.881664,   expected = 8783.100000,   error = 0.771728  %\n",
            "predicted = 8822.132816,   expected = 8661.200000,   error = 1.858089  %\n",
            "predicted = 8673.962248,   expected = 8476.300000,   error = 2.331940  %\n",
            "predicted = 8497.627488,   expected = 8497.300000,   error = 0.003854  %\n",
            "predicted = 8550.418582,   expected = 8509.800000,   error = 0.477315  %\n",
            "predicted = 8510.333002,   expected = 8208.400000,   error = 3.678342  %\n",
            "predicted = 8192.947433,   expected = 8145.700000,   error = 0.580029  %\n",
            "predicted = 8198.414710,   expected = 8099.300000,   error = 1.223744  %\n",
            "predicted = 8128.884991,   expected = 7627.900000,   error = 6.567797  %\n",
            "predicted = 7614.250251,   expected = 7272.500000,   error = 4.699213  %\n",
            "predicted = 7320.696624,   expected = 7324.100000,   error = 0.046468  %\n",
            "predicted = 7379.400659,   expected = 6924.700000,   error = 6.566359  %\n",
            "predicted = 6868.976055,   expected = 7115.600000,   error = 3.465961  %\n",
            "predicted = 7117.315215,   expected = 7162.800000,   error = 0.635014  %\n",
            "predicted = 7122.149972,   expected = 7510.600000,   error = 5.172024  %\n",
            "predicted = 7485.921784,   expected = 7426.700000,   error = 0.797417  %\n",
            "predicted = 7381.764094,   expected = 7742.700000,   error = 4.661628  %\n",
            "predicted = 7815.054445,   expected = 7546.600000,   error = 3.557290  %\n",
            "predicted = 7565.666063,   expected = 7396.400000,   error = 2.288493  %\n",
            "predicted = 7470.454187,   expected = 7298.200000,   error = 2.360228  %\n",
            "predicted = 7366.308713,   expected = 7291.800000,   error = 1.021815  %\n",
            "predicted = 7328.340238,   expected = 7204.400000,   error = 1.720341  %\n",
            "predicted = 7187.357330,   expected = 7399.200000,   error = 2.863048  %\n",
            "predicted = 7410.225645,   expected = 7530.800000,   error = 1.601083  %\n",
            "predicted = 7512.464959,   expected = 7510.900000,   error = 0.020836  %\n",
            "predicted = 7503.513599,   expected = 7524.400000,   error = 0.277582  %\n",
            "predicted = 7567.861462,   expected = 7355.800000,   error = 2.882915  %\n",
            "predicted = 7405.547466,   expected = 7235.700000,   error = 2.347354  %\n",
            "predicted = 7287.943557,   expected = 7208.000000,   error = 1.109095  %\n",
            "predicted = 7242.273231,   expected = 7208.000000,   error = 0.475489  %\n",
            "predicted = 7210.800998,   expected = 7255.200000,   error = 0.611961  %\n",
            "predicted = 7245.739983,   expected = 7080.800000,   error = 2.329398  %\n",
            "predicted = 7076.778554,   expected = 7128.500000,   error = 0.725559  %\n",
            "predicted = 7173.280310,   expected = 6903.500000,   error = 3.907877  %\n",
            "predicted = 6914.784398,   expected = 6613.300000,   error = 4.558759  %\n",
            "predicted = 6643.151377,   expected = 7276.000000,   error = 8.697755  %\n",
            "predicted = 7339.691412,   expected = 7165.500000,   error = 2.430974  %\n",
            "predicted = 7052.912441,   expected = 7196.400000,   error = 1.993880  %\n",
            "predicted = 7185.920440,   expected = 7156.200000,   error = 0.415310  %\n",
            "predicted = 7226.266685,   expected = 7495.800000,   error = 3.595791  %\n",
            "predicted = 7580.213286,   expected = 7322.800000,   error = 3.515230  %\n",
            "predicted = 7283.139894,   expected = 7268.300000,   error = 0.204173  %\n",
            "predicted = 7316.699839,   expected = 7224.800000,   error = 1.272005  %\n",
            "predicted = 7287.592171,   expected = 7210.900000,   error = 1.063559  %\n",
            "predicted = 7245.555408,   expected = 7261.700000,   error = 0.222325  %\n",
            "predicted = 7261.695122,   expected = 7321.500000,   error = 0.816839  %\n",
            "predicted = 7324.347514,   expected = 7397.500000,   error = 0.988881  %\n",
            "predicted = 7405.262847,   expected = 7261.800000,   error = 1.975582  %\n",
            "predicted = 7274.813814,   expected = 7196.400000,   error = 1.089626  %\n",
            "predicted = 7248.525221,   expected = 7199.800000,   error = 0.676758  %\n",
            "predicted = 7241.820996,   expected = 6967.000000,   error = 3.944610  %\n",
            "predicted = 6971.451273,   expected = 7343.100000,   error = 5.061197  %\n",
            "predicted = 7384.700349,   expected = 7376.800000,   error = 0.107097  %\n",
            "predicted = 7330.313843,   expected = 7372.500000,   error = 0.572210  %\n",
            "predicted = 7364.726095,   expected = 7759.100000,   error = 5.082727  %\n",
            "predicted = 7815.869353,   expected = 8155.700000,   error = 4.166787  %\n",
            "predicted = 8166.329678,   expected = 8059.600000,   error = 1.324255  %\n",
            "predicted = 8031.023252,   expected = 7842.400000,   error = 2.405173  %\n",
            "predicted = 7931.729320,   expected = 8187.100000,   error = 3.119184  %\n",
            "predicted = 8337.177562,   expected = 8024.100000,   error = 3.901716  %\n",
            "predicted = 8013.129773,   expected = 8187.600000,   error = 2.130908  %\n",
            "predicted = 8207.001794,   expected = 8111.400000,   error = 1.178610  %\n",
            "predicted = 8129.057455,   expected = 8829.200000,   error = 7.929853  %\n",
            "predicted = 8893.110925,   expected = 8818.300000,   error = 0.848360  %\n",
            "predicted = 8737.033441,   expected = 8726.900000,   error = 0.116117  %\n",
            "predicted = 8770.405540,   expected = 8913.100000,   error = 1.600952  %\n",
            "predicted = 9042.418048,   expected = 8916.300000,   error = 1.414466  %\n",
            "predicted = 8979.091092,   expected = 8706.200000,   error = 3.134445  %\n",
            "predicted = 8717.914175,   expected = 8641.900000,   error = 0.879600  %\n",
            "predicted = 8710.672357,   expected = 8732.600000,   error = 0.251101  %\n",
            "predicted = 8781.529636,   expected = 8678.500000,   error = 1.187183  %\n",
            "predicted = 8661.788452,   expected = 8405.100000,   error = 3.053961  %\n",
            "predicted = 8407.842758,   expected = 8439.900000,   error = 0.379830  %\n",
            "predicted = 8508.760176,   expected = 8341.600000,   error = 2.003934  %\n",
            "predicted = 8354.871492,   expected = 8607.800000,   error = 2.938364  %\n",
            "predicted = 8612.209608,   expected = 8866.600000,   error = 2.869086  %\n",
            "predicted = 8831.200923,   expected = 9377.300000,   error = 5.823628  %\n",
            "predicted = 9365.441864,   expected = 9298.900000,   error = 0.715589  %\n",
            "predicted = 9278.117141,   expected = 9507.300000,   error = 2.410599  %\n",
            "predicted = 9621.269293,   expected = 9349.100000,   error = 2.911182  %\n",
            "predicted = 9431.630084,   expected = 9381.600000,   error = 0.533279  %\n",
            "predicted = 9473.329824,   expected = 9334.900000,   error = 1.482928  %\n",
            "predicted = 9371.732578,   expected = 9296.600000,   error = 0.808173  %\n",
            "predicted = 9328.636195,   expected = 9193.900000,   error = 1.465496  %\n",
            "predicted = 9213.018798,   expected = 9611.800000,   error = 4.148871  %\n",
            "predicted = 9657.567601,   expected = 9772.000000,   error = 1.171023  %\n",
            "predicted = 9726.401069,   expected = 9818.600000,   error = 0.939023  %\n",
            "predicted = 9813.245997,   expected = 9895.500000,   error = 0.831226  %\n",
            "predicted = 9965.765326,   expected = 10151.500000,   error = 1.829628  %\n",
            "predicted = 10235.104289,   expected = 9854.100000,   error = 3.866454  %\n",
            "predicted = 9861.914169,   expected = 10229.500000,   error = 3.593390  %\n",
            "predicted = 10328.595597,   expected = 10317.700000,   error = 0.105601  %\n",
            "predicted = 10325.885801,   expected = 10235.100000,   error = 0.887005  %\n",
            "predicted = 10241.851504,   expected = 10333.000000,   error = 0.882111  %\n",
            "predicted = 10398.401387,   expected = 9907.700000,   error = 4.952728  %\n",
            "predicted = 9958.011710,   expected = 9932.300000,   error = 0.258870  %\n",
            "predicted = 10022.202652,   expected = 9701.400000,   error = 3.306767  %\n",
            "predicted = 9719.038220,   expected = 10158.400000,   error = 4.325108  %\n",
            "predicted = 10185.202667,   expected = 9609.400000,   error = 5.992077  %\n",
            "predicted = 9526.181312,   expected = 9602.400000,   error = 0.793746  %\n",
            "predicted = 9689.922409,   expected = 9684.500000,   error = 0.055991  %\n",
            "predicted = 9740.109995,   expected = 9655.700000,   error = 0.874199  %\n",
            "predicted = 9642.878569,   expected = 9942.700000,   error = 3.015493  %\n",
            "predicted = 9930.113525,   expected = 9662.700000,   error = 2.767482  %\n",
            "predicted = 9653.020640,   expected = 9317.200000,   error = 3.604309  %\n",
            "predicted = 9386.194885,   expected = 8800.300000,   error = 6.657669  %\n",
            "predicted = 8890.555312,   expected = 8818.600000,   error = 0.815949  %\n",
            "predicted = 8904.320622,   expected = 8697.500000,   error = 2.377932  %\n",
            "predicted = 8646.695077,   expected = 8543.700000,   error = 1.205509  %\n",
            "predicted = 8493.858045,   expected = 8540.000000,   error = 0.540304  %\n",
            "predicted = 8542.278277,   expected = 8904.800000,   error = 4.071082  %\n",
            "predicted = 8919.138698,   expected = 8761.400000,   error = 1.800382  %\n",
            "predicted = 8699.096394,   expected = 8757.900000,   error = 0.671435  %\n",
            "predicted = 8794.923526,   expected = 9060.300000,   error = 2.929003  %\n",
            "predicted = 9135.344090,   expected = 9134.800000,   error = 0.005956  %\n",
            "predicted = 9131.152127,   expected = 8887.800000,   error = 2.738047  %\n",
            "predicted = 8889.822163,   expected = 8034.100000,   error = 10.651127  %\n",
            "predicted = 8111.725335,   expected = 7933.000000,   error = 2.252935  %\n",
            "predicted = 8101.853952,   expected = 7891.200000,   error = 2.669479  %\n",
            "predicted = 7891.869576,   expected = 7935.100000,   error = 0.544800  %\n",
            "predicted = 7842.678320,   expected = 4826.000000,   error = 62.508875  %\n",
            "predicted = 4746.259014,   expected = 5584.300000,   error = 15.007091  %\n",
            "predicted = 6019.673055,   expected = 5182.700000,   error = 16.149363  %\n",
            "predicted = 5048.092794,   expected = 5366.300000,   error = 5.929732  %\n",
            "predicted = 5110.656310,   expected = 5030.000000,   error = 1.603505  %\n",
            "predicted = 4883.354148,   expected = 5261.100000,   error = 7.179979  %\n",
            "predicted = 5342.521788,   expected = 5361.400000,   error = 0.352113  %\n",
            "predicted = 5327.678260,   expected = 6172.000000,   error = 13.679873  %\n",
            "predicted = 6147.367486,   expected = 6205.300000,   error = 0.933597  %\n",
            "predicted = 6104.667135,   expected = 6186.200000,   error = 1.317980  %\n",
            "predicted = 6248.041113,   expected = 5822.100000,   error = 7.315936  %\n",
            "predicted = 5957.029442,   expected = 6468.900000,   error = 7.912791  %\n",
            "predicted = 6630.109585,   expected = 6744.600000,   error = 1.697512  %\n",
            "predicted = 6662.093325,   expected = 6678.900000,   error = 0.251638  %\n",
            "predicted = 6610.287613,   expected = 6725.100000,   error = 1.707222  %\n",
            "predicted = 6814.975507,   expected = 6373.400000,   error = 6.928414  %\n",
            "predicted = 6475.597076,   expected = 6233.700000,   error = 3.880473  %\n",
            "predicted = 6311.303583,   expected = 5890.400000,   error = 7.145586  %\n",
            "predicted = 5918.729005,   expected = 6391.000000,   error = 7.389626  %\n",
            "predicted = 6418.653151,   expected = 6412.500000,   error = 0.095956  %\n",
            "predicted = 6305.651854,   expected = 6638.500000,   error = 5.013906  %\n",
            "predicted = 6598.137777,   expected = 6800.500000,   error = 2.975696  %\n",
            "predicted = 6827.553524,   expected = 6735.900000,   error = 1.360672  %\n",
            "predicted = 6783.893065,   expected = 6857.400000,   error = 1.071936  %\n",
            "predicted = 6921.020959,   expected = 6772.700000,   error = 2.189983  %\n",
            "predicted = 6814.662187,   expected = 7332.300000,   error = 7.059692  %\n",
            "predicted = 7375.930946,   expected = 7185.200000,   error = 2.654497  %\n",
            "predicted = 7134.938289,   expected = 7361.200000,   error = 3.073707  %\n",
            "predicted = 7408.319929,   expected = 7289.000000,   error = 1.636986  %\n",
            "predicted = 7351.155435,   expected = 6863.100000,   error = 7.111297  %\n",
            "predicted = 6918.935129,   expected = 6867.800000,   error = 0.744563  %\n",
            "predicted = 6953.138592,   expected = 6917.600000,   error = 0.513742  %\n",
            "predicted = 6936.874598,   expected = 6841.300000,   error = 1.397024  %\n",
            "predicted = 6792.459123,   expected = 6850.900000,   error = 0.853039  %\n",
            "predicted = 6845.389724,   expected = 6629.100000,   error = 3.262731  %\n",
            "predicted = 6650.068386,   expected = 7085.600000,   error = 6.146715  %\n",
            "predicted = 7134.050236,   expected = 7035.800000,   error = 1.396433  %\n",
            "predicted = 6981.891383,   expected = 7230.800000,   error = 3.442339  %\n",
            "predicted = 7232.975549,   expected = 7122.900000,   error = 1.545375  %\n",
            "predicted = 7156.299833,   expected = 6833.500000,   error = 4.723785  %\n",
            "predicted = 6899.498503,   expected = 6842.500000,   error = 0.833007  %\n",
            "predicted = 6919.847409,   expected = 7112.900000,   error = 2.714119  %\n",
            "predicted = 7132.002755,   expected = 7488.500000,   error = 4.760596  %\n",
            "predicted = 7420.691379,   expected = 7503.800000,   error = 1.107554  %\n",
            "predicted = 7448.283127,   expected = 7540.400000,   error = 1.221644  %\n",
            "predicted = 7602.297846,   expected = 7678.900000,   error = 0.997567  %\n",
            "predicted = 7773.690402,   expected = 7766.000000,   error = 0.099027  %\n",
            "predicted = 7805.019475,   expected = 7746.900000,   error = 0.750229  %\n",
            "predicted = 7763.379641,   expected = 8770.900000,   error = 11.487081  %\n",
            "predicted = 8830.357073,   expected = 8629.000000,   error = 2.333493  %\n",
            "predicted = 8530.367353,   expected = 8821.600000,   error = 3.301359  %\n",
            "predicted = 8883.898754,   expected = 8966.300000,   error = 0.919011  %\n",
            "predicted = 9108.481070,   expected = 8885.500000,   error = 2.509494  %\n",
            "predicted = 8968.067540,   expected = 8874.700000,   error = 1.052064  %\n",
            "predicted = 8924.810627,   expected = 9001.000000,   error = 0.846455  %\n",
            "predicted = 9063.588845,   expected = 9151.400000,   error = 0.959538  %\n",
            "predicted = 9161.328113,   expected = 9979.800000,   error = 8.201285  %\n",
            "predicted = 9981.689167,   expected = 9806.200000,   error = 1.789574  %\n",
            "predicted = 9734.090940,   expected = 9554.600000,   error = 1.878581  %\n",
            "predicted = 9643.974922,   expected = 8738.800000,   error = 10.358115  %\n",
            "predicted = 8901.086136,   expected = 8579.800000,   error = 3.744681  %\n",
            "predicted = 8751.525274,   expected = 8813.800000,   error = 0.706559  %\n",
            "predicted = 8810.479458,   expected = 9298.700000,   error = 5.250417  %\n",
            "predicted = 9162.711188,   expected = 9778.400000,   error = 6.296417  %\n",
            "predicted = 9641.306132,   expected = 9318.000000,   error = 3.469694  %\n",
            "predicted = 9298.601102,   expected = 9379.500000,   error = 0.862508  %\n",
            "predicted = 9561.490520,   expected = 9677.700000,   error = 1.200796  %\n",
            "predicted = 9801.980791,   expected = 9730.700000,   error = 0.732535  %\n",
            "predicted = 9697.275658,   expected = 9773.300000,   error = 0.777878  %\n",
            "predicted = 9763.717278,   expected = 9512.300000,   error = 2.643076  %\n",
            "predicted = 9575.929468,   expected = 9059.000000,   error = 5.706253  %\n",
            "predicted = 9146.395962,   expected = 9169.700000,   error = 0.254142  %\n",
            "predicted = 9264.951333,   expected = 9177.000000,   error = 0.958389  %\n",
            "predicted = 9153.539507,   expected = 8728.200000,   error = 4.873164  %\n",
            "predicted = 8673.300444,   expected = 8898.200000,   error = 2.527472  %\n",
            "predicted = 8962.016243,   expected = 8842.500000,   error = 1.351611  %\n",
            "predicted = 8848.501426,   expected = 9199.100000,   error = 3.811227  %\n",
            "predicted = 9176.625363,   expected = 9572.200000,   error = 4.132536  %\n",
            "predicted = 9530.700951,   expected = 9424.800000,   error = 1.123641  %\n",
            "predicted = 9409.401841,   expected = 9692.500000,   error = 2.920796  %\n",
            "predicted = 9790.324863,   expected = 9454.800000,   error = 3.548725  %\n",
            "predicted = 9522.615154,   expected = 10189.300000,   error = 6.542990  %\n",
            "predicted = 10274.310686,   expected = 9527.600000,   error = 7.837343  %\n",
            "predicted = 9471.846345,   expected = 9667.200000,   error = 2.020788  %\n",
            "predicted = 9783.071247,   expected = 9794.400000,   error = 0.115666  %\n",
            "predicted = 9871.168189,   expected = 9631.200000,   error = 2.491571  %\n",
            "predicted = 9618.590008,   expected = 9669.600000,   error = 0.527529  %\n",
            "predicted = 9681.928934,   expected = 9742.600000,   error = 0.622740  %\n",
            "predicted = 9791.728993,   expected = 9777.900000,   error = 0.141431  %\n",
            "predicted = 9784.689957,   expected = 9768.800000,   error = 0.162660  %\n",
            "predicted = 9782.128390,   expected = 9878.800000,   error = 0.978576  %\n",
            "predicted = 9921.178952,   expected = 9283.200000,   error = 6.872403  %\n",
            "predicted = 9301.268176,   expected = 9466.600000,   error = 1.746475  %\n",
            "predicted = 9577.792614,   expected = 9471.300000,   error = 1.124372  %\n",
            "predicted = 9479.193085,   expected = 9345.300000,   error = 1.432732  %\n",
            "predicted = 9304.482037,   expected = 9425.400000,   error = 1.282895  %\n",
            "predicted = 9442.188106,   expected = 9523.500000,   error = 0.853803  %\n",
            "predicted = 9554.320413,   expected = 9464.600000,   error = 0.947958  %\n",
            "predicted = 9461.161693,   expected = 9388.100000,   error = 0.778237  %\n",
            "predicted = 9421.711495,   expected = 9314.000000,   error = 1.156447  %\n",
            "predicted = 9368.291072,   expected = 9358.800000,   error = 0.101413  %\n",
            "predicted = 9394.788046,   expected = 9296.400000,   error = 1.058346  %\n",
            "predicted = 9299.599824,   expected = 9683.700000,   error = 3.966461  %\n",
            "predicted = 9704.744456,   expected = 9624.600000,   error = 0.832704  %\n",
            "predicted = 9595.256452,   expected = 9302.000000,   error = 3.152617  %\n",
            "predicted = 9332.659696,   expected = 9247.500000,   error = 0.920894  %\n",
            "predicted = 9359.553966,   expected = 9160.000000,   error = 2.178537  %\n",
            "predicted = 9213.932040,   expected = 9008.300000,   error = 2.282695  %\n",
            "predicted = 8998.297739,   expected = 9124.000000,   error = 1.377710  %\n",
            "predicted = 9135.558426,   expected = 9185.400000,   error = 0.542617  %\n",
            "predicted = 9176.937356,   expected = 9135.400000,   error = 0.454686  %\n",
            "predicted = 9125.079937,   expected = 9229.900000,   error = 1.135658  %\n",
            "predicted = 9264.926349,   expected = 9085.100000,   error = 1.979355  %\n",
            "predicted = 9113.455675,   expected = 9067.100000,   error = 0.511251  %\n",
            "predicted = 9110.942003,   expected = 9134.400000,   error = 0.256809  %\n",
            "predicted = 9168.497195,   expected = 9081.000000,   error = 0.963519  %\n",
            "predicted = 9085.135874,   expected = 9339.000000,   error = 2.718322  %\n",
            "predicted = 9358.650776,   expected = 9256.000000,   error = 1.109019  %\n",
            "predicted = 9251.633824,   expected = 9429.900000,   error = 1.890435  %\n",
            "predicted = 9469.273593,   expected = 9235.700000,   error = 2.529030  %\n",
            "predicted = 9264.165797,   expected = 9285.100000,   error = 0.225460  %\n",
            "predicted = 9350.482918,   expected = 9233.300000,   error = 1.269134  %\n",
            "predicted = 9264.611617,   expected = 9300.800000,   error = 0.389089  %\n",
            "predicted = 9323.618691,   expected = 9243.600000,   error = 0.865666  %\n",
            "predicted = 9248.230415,   expected = 9253.400000,   error = 0.055867  %\n",
            "predicted = 9284.395568,   expected = 9198.700000,   error = 0.931605  %\n",
            "predicted = 9225.578116,   expected = 9135.300000,   error = 0.988234  %\n",
            "predicted = 9165.488217,   expected = 9155.800000,   error = 0.105815  %\n",
            "predicted = 9185.120377,   expected = 9170.200000,   error = 0.162705  %\n",
            "predicted = 9185.251573,   expected = 9208.000000,   error = 0.247051  %\n",
            "predicted = 9218.125895,   expected = 9162.400000,   error = 0.608202  %\n",
            "predicted = 9178.902217,   expected = 9387.300000,   error = 2.219997  %\n",
            "predicted = 9424.324337,   expected = 9513.700000,   error = 0.939442  %\n",
            "predicted = 9514.210501,   expected = 9599.600000,   error = 0.889511  %\n",
            "predicted = 9607.634115,   expected = 9546.400000,   error = 0.641437  %\n",
            "predicted = 9587.316275,   expected = 9704.100000,   error = 1.203447  %\n",
            "predicted = 9776.803442,   expected = 9932.500000,   error = 1.567547  %\n",
            "predicted = 9960.798590,   expected = 11022.800000,   error = 9.634588  %\n",
            "predicted = 11026.163245,   expected = 10908.500000,   error = 1.078638  %\n",
            "predicted = 10802.398459,   expected = 11105.900000,   error = 2.732796  %\n",
            "predicted = 11213.758987,   expected = 11096.200000,   error = 1.059453  %\n",
            "predicted = 11272.294407,   expected = 11333.400000,   error = 0.539164  %\n",
            "predicted = 11456.097590,   expected = 11803.100000,   error = 2.939926  %\n",
            "predicted = 11820.579664,   expected = 11066.800000,   error = 6.811180  %\n",
            "predicted = 11049.663855,   expected = 11224.400000,   error = 1.556753  %\n",
            "predicted = 11390.491024,   expected = 11184.700000,   error = 1.839933  %\n",
            "predicted = 11266.567014,   expected = 11735.100000,   error = 3.992578  %\n",
            "predicted = 11720.054867,   expected = 11757.100000,   error = 0.315087  %\n",
            "predicted = 11667.821402,   expected = 11592.000000,   error = 0.654084  %\n",
            "predicted = 11633.817395,   expected = 11764.300000,   error = 1.109140  %\n",
            "predicted = 11891.010570,   expected = 11681.200000,   error = 1.796139  %\n",
            "predicted = 11739.269543,   expected = 11889.200000,   error = 1.261064  %\n",
            "predicted = 11915.943206,   expected = 11390.400000,   error = 4.613914  %\n",
            "predicted = 11398.607315,   expected = 11557.200000,   error = 1.372241  %\n",
            "predicted = 11663.832305,   expected = 11770.900000,   error = 0.909597  %\n",
            "predicted = 11795.914436,   expected = 11750.800000,   error = 0.383927  %\n",
            "predicted = 11707.253407,   expected = 11845.300000,   error = 1.165412  %\n",
            "predicted = 11861.127915,   expected = 11899.000000,   error = 0.318280  %\n",
            "predicted = 11962.084740,   expected = 12282.600000,   error = 2.609507  %\n",
            "predicted = 12328.294589,   expected = 11947.600000,   error = 3.186369  %\n",
            "predicted = 11937.838622,   expected = 11750.200000,   error = 1.596897  %\n",
            "predicted = 11844.620329,   expected = 11856.900000,   error = 0.103566  %\n",
            "predicted = 11968.044694,   expected = 11529.200000,   error = 3.806376  %\n",
            "predicted = 11533.191641,   expected = 11661.300000,   error = 1.098577  %\n",
            "predicted = 11686.076175,   expected = 11641.600000,   error = 0.382045  %\n",
            "predicted = 11648.845290,   expected = 11753.500000,   error = 0.890413  %\n",
            "predicted = 11756.274882,   expected = 11324.800000,   error = 3.810000  %\n",
            "predicted = 11327.667832,   expected = 11462.300000,   error = 1.174565  %\n",
            "predicted = 11562.617204,   expected = 11327.400000,   error = 2.076533  %\n",
            "predicted = 11347.399693,   expected = 11527.400000,   error = 1.561500  %\n",
            "predicted = 11533.285975,   expected = 11468.100000,   error = 0.568411  %\n",
            "predicted = 11451.235820,   expected = 11702.000000,   error = 2.142917  %\n",
            "predicted = 11739.208386,   expected = 11644.200000,   error = 0.815929  %\n",
            "predicted = 11657.408744,   expected = 11914.900000,   error = 2.161086  %\n",
            "predicted = 11968.966183,   expected = 11413.300000,   error = 4.868585  %\n",
            "predicted = 11430.499832,   expected = 10168.800000,   error = 12.407559  %\n",
            "predicted = 10263.797384,   expected = 10472.500000,   error = 1.992863  %\n",
            "predicted = 10692.899748,   expected = 10092.200000,   error = 5.952119  %\n",
            "predicted = 10029.974665,   expected = 10296.400000,   error = 2.587558  %\n",
            "predicted = 10186.952021,   expected = 10376.900000,   error = 1.830489  %\n",
            "predicted = 10309.109122,   expected = 10126.600000,   error = 1.802274  %\n",
            "predicted = 10120.781890,   expected = 10224.600000,   error = 1.015376  %\n",
            "predicted = 10281.051525,   expected = 10339.700000,   error = 0.567216  %\n",
            "predicted = 10380.560665,   expected = 10390.200000,   error = 0.092773  %\n",
            "predicted = 10377.309086,   expected = 10441.900000,   error = 0.618574  %\n",
            "predicted = 10455.057475,   expected = 10326.000000,   error = 1.249830  %\n",
            "predicted = 10370.264145,   expected = 10675.300000,   error = 2.857398  %\n",
            "predicted = 10739.643019,   expected = 10785.300000,   error = 0.423326  %\n",
            "predicted = 10776.136207,   expected = 10949.500000,   error = 1.583303  %\n",
            "predicted = 10956.442191,   expected = 10941.300000,   error = 0.138395  %\n",
            "predicted = 10985.794618,   expected = 10933.000000,   error = 0.482892  %\n",
            "predicted = 11011.395549,   expected = 11081.800000,   error = 0.635316  %\n",
            "predicted = 11145.141306,   expected = 10921.500000,   error = 2.047716  %\n",
            "predicted = 10943.117867,   expected = 10416.800000,   error = 5.052587  %\n",
            "predicted = 10462.688431,   expected = 10531.500000,   error = 0.653388  %\n",
            "predicted = 10645.271157,   expected = 10237.300000,   error = 3.985144  %\n",
            "predicted = 10236.161797,   expected = 10739.400000,   error = 4.685906  %\n",
            "predicted = 10733.381595,   expected = 10688.800000,   error = 0.417087  %\n",
            "predicted = 10615.989495,   expected = 10727.900000,   error = 1.043173  %\n",
            "predicted = 10738.941642,   expected = 10776.200000,   error = 0.345747  %\n",
            "predicted = 10840.016813,   expected = 10693.200000,   error = 1.372992  %\n",
            "predicted = 10753.357939,   expected = 10840.900000,   error = 0.807517  %\n",
            "predicted = 10883.158724,   expected = 10776.100000,   error = 0.993483  %\n",
            "predicted = 10793.392713,   expected = 10620.500000,   error = 1.627915  %\n",
            "predicted = 10651.639630,   expected = 10572.300000,   error = 0.750448  %\n",
            "predicted = 10632.541927,   expected = 10544.200000,   error = 0.837825  %\n",
            "predicted = 10581.778699,   expected = 10672.900000,   error = 0.853763  %\n",
            "predicted = 10679.627474,   expected = 10789.500000,   error = 1.018328  %\n",
            "predicted = 10780.631308,   expected = 10602.600000,   error = 1.679129  %\n",
            "predicted = 10607.539719,   expected = 10670.900000,   error = 0.593767  %\n",
            "predicted = 10740.644836,   expected = 10924.100000,   error = 1.679362  %\n",
            "predicted = 10970.155400,   expected = 11054.200000,   error = 0.760296  %\n",
            "predicted = 11034.938010,   expected = 11298.400000,   error = 2.331852  %\n",
            "predicted = 11306.033394,   expected = 11371.000000,   error = 0.571336  %\n",
            "predicted = 11410.075367,   expected = 11533.900000,   error = 1.073571  %\n",
            "predicted = 11599.164600,   expected = 11423.800000,   error = 1.535081  %\n",
            "predicted = 11476.645563,   expected = 11420.400000,   error = 0.492501  %\n",
            "predicted = 11498.811138,   expected = 11503.000000,   error = 0.036415  %\n",
            "predicted = 11561.430370,   expected = 11322.000000,   error = 2.114736  %\n",
            "predicted = 11340.208046,   expected = 11362.100000,   error = 0.192675  %\n",
            "predicted = 11408.097107,   expected = 11506.900000,   error = 0.858640  %\n",
            "predicted = 11541.644824,   expected = 11753.400000,   error = 1.801650  %\n",
            "predicted = 11749.225888,   expected = 11913.500000,   error = 1.378890  %\n",
            "predicted = 11902.050183,   expected = 12808.700000,   error = 7.078391  %\n",
            "predicted = 12851.357816,   expected = 12974.600000,   error = 0.949873  %\n",
            "predicted = 12933.837828,   expected = 12934.100000,   error = 0.002027  %\n",
            "predicted = 13001.234268,   expected = 13117.200000,   error = 0.884074  %\n",
            "predicted = 13300.665876,   expected = 13032.200000,   error = 2.060020  %\n",
            "predicted = 13146.019294,   expected = 13061.600000,   error = 0.646317  %\n",
            "predicted = 13119.658654,   expected = 13657.800000,   error = 3.940176  %\n",
            "predicted = 13713.916041,   expected = 13278.900000,   error = 3.275995  %\n",
            "predicted = 13237.621382,   expected = 13457.200000,   error = 1.631681  %\n",
            "predicted = 13548.055197,   expected = 13559.900000,   error = 0.087352  %\n",
            "predicted = 13650.365820,   expected = 13797.300000,   error = 1.064949  %\n",
            "predicted = 13826.393391,   expected = 13759.400000,   error = 0.486892  %\n",
            "predicted = 13754.973398,   expected = 13561.400000,   error = 1.427385  %\n",
            "predicted = 13633.682763,   expected = 14019.900000,   error = 2.754779  %\n",
            "predicted = 14128.595245,   expected = 14145.600000,   error = 0.120212  %\n",
            "predicted = 14134.871691,   expected = 15587.100000,   error = 9.316860  %\n",
            "predicted = 15589.122468,   expected = 15577.900000,   error = 0.072041  %\n",
            "predicted = 15463.772099,   expected = 14828.400000,   error = 4.284832  %\n",
            "predicted = 14940.079668,   expected = 15483.700000,   error = 3.510920  %\n",
            "predicted = 15843.867397,   expected = 15327.200000,   error = 3.370918  %\n",
            "predicted = 15399.990840,   expected = 15303.600000,   error = 0.629857  %\n",
            "predicted = 15274.141323,   expected = 15695.800000,   error = 2.686443  %\n",
            "predicted = 15762.505782,   expected = 16294.700000,   error = 3.266057  %\n",
            "predicted = 16325.592569,   expected = 16324.200000,   error = 0.008531  %\n",
            "predicted = 16271.859403,   expected = 16071.000000,   error = 1.249825  %\n",
            "predicted = 16166.178351,   expected = 15953.000000,   error = 1.336290  %\n",
            "predicted = 16143.993824,   expected = 16715.800000,   error = 3.420753  %\n",
            "predicted = 16838.457498,   expected = 17662.300000,   error = 4.664412  %\n",
            "predicted = 17568.831559,   expected = 17774.600000,   error = 1.157654  %\n",
            "predicted = 17657.258857,   expected = 17803.500000,   error = 0.821418  %\n",
            "predicted = 17942.972768,   expected = 18675.200000,   error = 3.920853  %\n",
            "predicted = 18939.100913,   expected = 18687.200000,   error = 1.347986  %\n",
            "predicted = 18722.574167,   expected = 18412.900000,   error = 1.681833  %\n",
            "predicted = 18483.305580,   expected = 18379.600000,   error = 0.564243  %\n",
            "predicted = 18584.906868,   expected = 19152.600000,   error = 2.964053  %\n",
            "predicted = 19293.295915,   expected = 18723.000000,   error = 3.045964  %\n",
            "predicted = 18632.709396,   expected = 17162.000000,   error = 8.569569  %\n",
            "predicted = 17236.087655,   expected = 17127.100000,   error = 0.636346  %\n",
            "predicted = 17466.198239,   expected = 17730.700000,   error = 1.491773  %\n",
            "predicted = 17784.485567,   expected = 18185.500000,   error = 2.205133  %\n",
            "predicted = 17912.199673,   expected = 19698.100000,   error = 9.066358  %\n",
            "predicted = 19544.708643,   expected = 18770.700000,   error = 4.123494  %\n",
            "predicted = 18698.374894,   expected = 19218.800000,   error = 2.707896  %\n",
            "predicted = 19538.067164,   expected = 19433.300000,   error = 0.539112  %\n",
            "predicted = 19661.762269,   expected = 18658.100000,   error = 5.379231  %\n",
            "predicted = 18696.108001,   expected = 19146.500000,   error = 2.352346  %\n",
            "predicted = 19288.167733,   expected = 19379.900000,   error = 0.473337  %\n",
            "predicted = 19426.490853,   expected = 19170.700000,   error = 1.334280  %\n",
            "predicted = 19113.882039,   expected = 18326.600000,   error = 4.295843  %\n",
            "predicted = 18398.753435,   expected = 18546.000000,   error = 0.793953  %\n",
            "predicted = 18782.679504,   expected = 18247.200000,   error = 2.934585  %\n",
            "predicted = 18252.608888,   expected = 18023.600000,   error = 1.270606  %\n",
            "predicted = 17992.536907,   expected = 18808.900000,   error = 4.340302  %\n",
            "predicted = 18848.156166,   expected = 19176.800000,   error = 1.713757  %\n",
            "predicted = 19097.305236,   expected = 19273.800000,   error = 0.915724  %\n",
            "predicted = 19226.254345,   expected = 19434.900000,   error = 1.073562  %\n",
            "predicted = 19565.650409,   expected = 21352.200000,   error = 8.367052  %\n",
            "predicted = 21530.649078,   expected = 22825.400000,   error = 5.672413  %\n",
            "predicted = 22658.969519,   expected = 23127.900000,   error = 2.027553  %\n",
            "predicted = 23039.347436,   expected = 23844.000000,   error = 3.374654  %\n",
            "predicted = 24196.589031,   expected = 23474.900000,   error = 3.074301  %\n",
            "predicted = 23841.293683,   expected = 22728.500000,   error = 4.896028  %\n",
            "predicted = 23015.295460,   expected = 23823.200000,   error = 3.391251  %\n",
            "predicted = 24119.704636,   expected = 23257.900000,   error = 3.705428  %\n",
            "predicted = 23178.930611,   expected = 23736.500000,   error = 2.348996  %\n",
            "predicted = 23762.987280,   expected = 24689.600000,   error = 3.753049  %\n",
            "predicted = 24769.265818,   expected = 26454.400000,   error = 6.369958  %\n",
            "predicted = 26427.673884,   expected = 26261.300000,   error = 0.633533  %\n",
            "predicted = 26111.650309,   expected = 27057.800000,   error = 3.496772  %\n",
            "predicted = 27370.152323,   expected = 27376.000000,   error = 0.021361  %\n",
            "predicted = 27680.302817,   expected = 28868.700000,   error = 4.116559  %\n",
            "predicted = 29067.186899,   expected = 28949.400000,   error = 0.406872  %\n",
            "predicted = 28919.366996,   expected = 29359.900000,   error = 1.500458  %\n",
            "predicted = 29570.526879,   expected = 32193.300000,   error = 8.146953  %\n",
            "predicted = 32494.502248,   expected = 32958.900000,   error = 1.409021  %\n",
            "predicted = 32813.385667,   expected = 32022.600000,   error = 2.469461  %\n",
            "predicted = 32102.453429,   expected = 33991.500000,   error = 5.557409  %\n",
            "predicted = 34694.270100,   expected = 36793.200000,   error = 5.704668  %\n",
            "predicted = 37012.419808,   expected = 39460.200000,   error = 6.203162  %\n",
            "predicted = 39124.732036,   expected = 40599.300000,   error = 3.632003  %\n",
            "predicted = 40583.938358,   expected = 40151.900000,   error = 1.076010  %\n",
            "predicted = 40766.275307,   expected = 38192.200000,   error = 6.739793  %\n",
            "predicted = 38977.023261,   expected = 35544.300000,   error = 9.657591  %\n",
            "predicted = 36220.725258,   expected = 34076.100000,   error = 6.293635  %\n",
            "predicted = 34517.736454,   expected = 37382.200000,   error = 7.662640  %\n",
            "predicted = 37424.689320,   expected = 39175.700000,   error = 4.469635  %\n",
            "predicted = 38271.703073,   expected = 36845.800000,   error = 3.869920  %\n",
            "predicted = 36310.542293,   expected = 36019.500000,   error = 0.808013  %\n",
            "predicted = 36740.586787,   expected = 35839.600000,   error = 2.513942  %\n",
            "predicted = 36541.264899,   expected = 36613.200000,   error = 0.196473  %\n",
            "predicted = 36601.338271,   expected = 36002.900000,   error = 1.662195  %\n",
            "predicted = 35701.804140,   expected = 35476.300000,   error = 0.635647  %\n",
            "predicted = 35571.477434,   expected = 30842.100000,   error = 15.334162  %\n",
            "predicted = 31030.496273,   expected = 33000.500000,   error = 5.969618  %\n",
            "predicted = 33731.101641,   expected = 32088.900000,   error = 5.117663  %\n",
            "predicted = 31733.467278,   expected = 32241.300000,   error = 1.575100  %\n",
            "predicted = 31856.346979,   expected = 32252.300000,   error = 1.227674  %\n",
            "predicted = 32205.002092,   expected = 32502.100000,   error = 0.914088  %\n",
            "predicted = 32669.675713,   expected = 30404.000000,   error = 7.451900  %\n",
            "predicted = 30392.228734,   expected = 33374.800000,   error = 8.936597  %\n",
            "predicted = 33808.867327,   expected = 34301.800000,   error = 1.437046  %\n",
            "predicted = 33987.146062,   expected = 34283.100000,   error = 0.863265  %\n",
            "predicted = 34011.155481,   expected = 33108.100000,   error = 2.727597  %\n",
            "predicted = 33416.646578,   expected = 33515.700000,   error = 0.295543  %\n",
            "predicted = 34165.567305,   expected = 35485.200000,   error = 3.718826  %\n",
            "predicted = 35609.603734,   expected = 37646.800000,   error = 5.411340  %\n",
            "predicted = 37309.944586,   expected = 36982.100000,   error = 0.886495  %\n",
            "predicted = 36754.089980,   expected = 38297.600000,   error = 4.030305  %\n",
            "predicted = 38854.601578,   expected = 39256.600000,   error = 1.024028  %\n",
            "predicted = 39678.507197,   expected = 38852.900000,   error = 2.124956  %\n",
            "predicted = 38953.213848,   expected = 46395.700000,   error = 16.041327  %\n",
            "predicted = 46788.794208,   expected = 46508.600000,   error = 0.602457  %\n",
            "predicted = 45817.642394,   expected = 44836.000000,   error = 2.189407  %\n",
            "predicted = 45054.793540,   expected = 47990.700000,   error = 6.117657  %\n",
            "predicted = 49462.510617,   expected = 47371.700000,   error = 4.413628  %\n",
            "predicted = 47802.523377,   expected = 47168.700000,   error = 1.343737  %\n",
            "predicted = 47210.034779,   expected = 48643.400000,   error = 2.946680  %\n",
            "predicted = 49086.074016,   expected = 47936.300000,   error = 2.398546  %\n",
            "predicted = 48075.506107,   expected = 49169.700000,   error = 2.225342  %\n",
            "predicted = 49351.113972,   expected = 52079.200000,   error = 5.238341  %\n",
            "predicted = 52245.718100,   expected = 51582.200000,   error = 1.286332  %\n",
            "predicted = 51384.707705,   expected = 55906.600000,   error = 8.088298  %\n",
            "predicted = 56311.784649,   expected = 55923.700000,   error = 0.693954  %\n",
            "predicted = 56008.599935,   expected = 57433.800000,   error = 2.481466  %\n",
            "predicted = 57877.555409,   expected = 54111.800000,   error = 6.959213  %\n",
            "predicted = 54576.407987,   expected = 48911.200000,   error = 11.582640  %\n",
            "predicted = 49791.462053,   expected = 49697.500000,   error = 0.189068  %\n",
            "predicted = 50678.412537,   expected = 46928.500000,   error = 7.990693  %\n",
            "predicted = 46654.982137,   expected = 46345.600000,   error = 0.667554  %\n",
            "predicted = 46008.575760,   expected = 46136.700000,   error = 0.277706  %\n",
            "predicted = 46007.310681,   expected = 45164.000000,   error = 1.867219  %\n",
            "predicted = 45045.398899,   expected = 49595.500000,   error = 9.174423  %\n",
            "predicted = 49576.681376,   expected = 48424.200000,   error = 2.379970  %\n",
            "predicted = 47859.082551,   expected = 50395.100000,   error = 5.032270  %\n",
            "predicted = 50607.897892,   expected = 48428.000000,   error = 4.501317  %\n",
            "predicted = 48775.612301,   expected = 48792.500000,   error = 0.034611  %\n",
            "predicted = 49474.732990,   expected = 48855.600000,   error = 1.267271  %\n",
            "predicted = 49075.821782,   expected = 50982.300000,   error = 3.739490  %\n",
            "predicted = 51056.000053,   expected = 52311.000000,   error = 2.399113  %\n",
            "predicted = 52039.589001,   expected = 54879.000000,   error = 5.173948  %\n",
            "predicted = 54931.090488,   expected = 55851.900000,   error = 1.648663  %\n",
            "predicted = 55984.578028,   expected = 57799.500000,   error = 3.140031  %\n",
            "predicted = 58277.161575,   expected = 57265.100000,   error = 1.767327  %\n",
            "predicted = 57656.977401,   expected = 61195.300000,   error = 5.782017  %\n",
            "predicted = 61890.133919,   expected = 59113.700000,   error = 4.696769  %\n",
            "predicted = 59096.242584,   expected = 55791.300000,   error = 5.923760  %\n",
            "predicted = 56341.077223,   expected = 56889.700000,   error = 0.964362  %\n",
            "predicted = 57929.608111,   expected = 58913.500000,   error = 1.670062  %\n",
            "predicted = 58989.942751,   expected = 57656.000000,   error = 2.313623  %\n",
            "predicted = 56966.433993,   expected = 58088.000000,   error = 1.930805  %\n",
            "predicted = 58302.991862,   expected = 58093.400000,   error = 0.360784  %\n",
            "predicted = 58552.894664,   expected = 57383.800000,   error = 2.037325  %\n",
            "predicted = 57570.872772,   expected = 54158.300000,   error = 6.301108  %\n",
            "predicted = 54342.931061,   expected = 54452.500000,   error = 0.201219  %\n",
            "predicted = 55070.506294,   expected = 52325.400000,   error = 5.246221  %\n",
            "predicted = 52318.826968,   expected = 51322.300000,   error = 1.941704  %\n",
            "predicted = 51312.202818,   expected = 55036.100000,   error = 6.766281  %\n",
            "predicted = 55098.041083,   expected = 55862.900000,   error = 1.369172  %\n",
            "predicted = 55241.414286,   expected = 55765.200000,   error = 0.939270  %\n",
            "predicted = 55526.915152,   expected = 57616.200000,   error = 3.626211  %\n",
            "predicted = 58234.929553,   expected = 58771.300000,   error = 0.912640  %\n",
            "predicted = 59158.899460,   expected = 58763.700000,   error = 0.672523  %\n",
            "predicted = 58862.587959,   expected = 58718.300000,   error = 0.245729  %\n",
            "predicted = 59140.387135,   expected = 58977.300000,   error = 0.276525  %\n",
            "predicted = 59475.988514,   expected = 57059.900000,   error = 4.234302  %\n",
            "predicted = 57282.076702,   expected = 58199.900000,   error = 1.577019  %\n",
            "predicted = 58633.454474,   expected = 58993.400000,   error = 0.610145  %\n",
            "predicted = 59022.872178,   expected = 57996.300000,   error = 1.770065  %\n",
            "predicted = 57847.404110,   expected = 55948.700000,   error = 3.393652  %\n",
            "predicted = 56220.929031,   expected = 58077.400000,   error = 3.196546  %\n",
            "predicted = 58732.122352,   expected = 58118.700000,   error = 1.055465  %\n",
            "predicted = 57918.519713,   expected = 59748.400000,   error = 3.062643  %\n",
            "predicted = 59588.448059,   expected = 59978.700000,   error = 0.650651  %\n",
            "predicted = 60031.835399,   expected = 59863.800000,   error = 0.280696  %\n",
            "predicted = 60225.247050,   expected = 63540.900000,   error = 5.218140  %\n",
            "predicted = 63993.692786,   expected = 62980.400000,   error = 1.608902  %\n",
            "predicted = 62839.161177,   expected = 63216.000000,   error = 0.596113  %\n",
            "predicted = 63524.639722,   expected = 61379.700000,   error = 3.494543  %\n",
            "predicted = 61973.549051,   expected = 60041.900000,   error = 3.217168  %\n",
            "predicted = 60699.090168,   expected = 56207.100000,   error = 7.991855  %\n",
            "predicted = 56488.075867,   expected = 55646.100000,   error = 1.513091  %\n",
            "predicted = 56098.481630,   expected = 56483.200000,   error = 0.681120  %\n",
            "predicted = 56388.934356,   expected = 53820.200000,   error = 4.772807  %\n",
            "predicted = 53299.787649,   expected = 51729.500000,   error = 3.035575  %\n",
            "predicted = 51852.345322,   expected = 51143.600000,   error = 1.385795  %\n",
            "predicted = 51589.698618,   expected = 50088.900000,   error = 2.996270  %\n",
            "predicted = 50041.085968,   expected = 48963.600000,   error = 2.200586  %\n",
            "predicted = 48778.998482,   expected = 54020.500000,   error = 9.702801  %\n",
            "predicted = 54093.904183,   expected = 55036.500000,   error = 1.712674  %\n",
            "predicted = 54267.402202,   expected = 54841.400000,   error = 1.046651  %\n",
            "predicted = 54663.068586,   expected = 53560.800000,   error = 2.057976  %\n",
            "predicted = 54314.685656,   expected = 57720.300000,   error = 5.900202  %\n",
            "predicted = 58724.443274,   expected = 57807.100000,   error = 1.586904  %\n",
            "predicted = 57448.983356,   expected = 56603.800000,   error = 1.493157  %\n",
            "predicted = 56608.146104,   expected = 57169.800000,   error = 0.982431  %\n",
            "predicted = 57935.169041,   expected = 53741.500000,   error = 7.803409  %\n",
            "predicted = 54155.834796,   expected = 57441.300000,   error = 5.719692  %\n",
            "predicted = 57965.161854,   expected = 56405.400000,   error = 2.765270  %\n",
            "predicted = 55995.640264,   expected = 57337.200000,   error = 2.339772  %\n",
            "predicted = 57286.096206,   expected = 58840.100000,   error = 2.641062  %\n",
            "predicted = 59061.315671,   expected = 58238.300000,   error = 1.413186  %\n",
            "predicted = 58414.494529,   expected = 55848.900000,   error = 4.593814  %\n",
            "predicted = 56122.320912,   expected = 56695.700000,   error = 1.011327  %\n",
            "predicted = 57448.328492,   expected = 49384.200000,   error = 16.329369  %\n",
            "predicted = 49422.535810,   expected = 49704.600000,   error = 0.567481  %\n",
            "predicted = 50472.671408,   expected = 49839.800000,   error = 1.269811  %\n",
            "predicted = 49784.448532,   expected = 46708.800000,   error = 6.584730  %\n",
            "predicted = 46064.100180,   expected = 46426.400000,   error = 0.780375  %\n",
            "predicted = 46445.756920,   expected = 43541.300000,   error = 6.670579  %\n",
            "predicted = 43696.897195,   expected = 42897.300000,   error = 1.863980  %\n",
            "predicted = 43038.055065,   expected = 36720.500000,   error = 17.204436  %\n",
            "predicted = 36607.850786,   expected = 40717.200000,   error = 10.092416  %\n",
            "predicted = 41328.657904,   expected = 37297.400000,   error = 10.808415  %\n",
            "predicted = 36554.162879,   expected = 37448.300000,   error = 2.387657  %\n",
            "predicted = 37230.681402,   expected = 34679.700000,   error = 7.355835  %\n",
            "predicted = 34716.632741,   expected = 38750.600000,   error = 10.410077  %\n",
            "predicted = 39159.039832,   expected = 38378.300000,   error = 2.034326  %\n",
            "predicted = 37644.070349,   expected = 39249.200000,   error = 4.089586  %\n",
            "predicted = 39069.042488,   expected = 38417.300000,   error = 1.696482  %\n",
            "predicted = 38713.585411,   expected = 35662.500000,   error = 8.555445  %\n",
            "predicted = 36161.275471,   expected = 34584.600000,   error = 4.558895  %\n",
            "predicted = 35082.977827,   expected = 35652.800000,   error = 1.598254  %\n",
            "predicted = 35843.666247,   expected = 37298.600000,   error = 3.900773  %\n",
            "predicted = 36824.361293,   expected = 36687.600000,   error = 0.372773  %\n",
            "predicted = 36207.383766,   expected = 37555.800000,   error = 3.590434  %\n",
            "predicted = 37807.868092,   expected = 39187.300000,   error = 3.520099  %\n",
            "predicted = 39506.678041,   expected = 36851.300000,   error = 7.205656  %\n",
            "predicted = 36815.495716,   expected = 35520.000000,   error = 3.647229  %\n",
            "predicted = 35974.554863,   expected = 35815.400000,   error = 0.444376  %\n",
            "predicted = 36340.592289,   expected = 33578.000000,   error = 8.227388  %\n",
            "predicted = 33474.241541,   expected = 33382.900000,   error = 0.273618  %\n",
            "predicted = 33425.787061,   expected = 37332.200000,   error = 10.463924  %\n",
            "predicted = 37376.254390,   expected = 36649.400000,   error = 1.983264  %\n",
            "predicted = 35940.495627,   expected = 37314.600000,   error = 3.682485  %\n",
            "predicted = 37315.880594,   expected = 35467.500000,   error = 5.211477  %\n",
            "predicted = 35970.560493,   expected = 39022.900000,   error = 7.821919  %\n",
            "predicted = 39680.979915,   expected = 40529.400000,   error = 2.093345  %\n",
            "predicted = 40155.998076,   expected = 40156.100000,   error = 0.000254  %\n",
            "predicted = 39900.053993,   expected = 38336.000000,   error = 4.079857  %\n",
            "predicted = 38810.898043,   expected = 38052.000000,   error = 1.994371  %\n",
            "predicted = 38887.517959,   expected = 35749.400000,   error = 8.778100  %\n",
            "predicted = 35937.951719,   expected = 35513.400000,   error = 1.195469  %\n",
            "predicted = 35658.208756,   expected = 35595.800000,   error = 0.175326  %\n",
            "predicted = 35534.911220,   expected = 31692.000000,   error = 12.125808  %\n",
            "predicted = 31486.773381,   expected = 32496.400000,   error = 3.106888  %\n",
            "predicted = 32882.182816,   expected = 33674.300000,   error = 2.352290  %\n",
            "predicted = 33616.677366,   expected = 34665.800000,   error = 3.026391  %\n",
            "predicted = 34101.529943,   expected = 31594.000000,   error = 7.936728  %\n",
            "predicted = 31360.953111,   expected = 32243.400000,   error = 2.736830  %\n",
            "predicted = 32954.590733,   expected = 34678.500000,   error = 4.971118  %\n",
            "predicted = 34893.496203,   expected = 34475.900000,   error = 1.211270  %\n",
            "predicted = 33922.461281,   expected = 35834.700000,   error = 5.336277  %\n",
            "predicted = 35799.369014,   expected = 35026.900000,   error = 2.205359  %\n",
            "predicted = 35335.662765,   expected = 33543.600000,   error = 5.342488  %\n",
            "predicted = 33927.471517,   expected = 33813.400000,   error = 0.337356  %\n",
            "predicted = 34246.176490,   expected = 34742.800000,   error = 1.429429  %\n",
            "predicted = 34801.741047,   expected = 35298.200000,   error = 1.406471  %\n",
            "predicted = 35009.973026,   expected = 33687.800000,   error = 3.924783  %\n",
            "predicted = 33628.426109,   expected = 34225.600000,   error = 1.744816  %\n",
            "predicted = 34679.727551,   expected = 33867.800000,   error = 2.397344  %\n",
            "predicted = 34024.492344,   expected = 32866.300000,   error = 3.523951  %\n",
            "predicted = 32850.533240,   expected = 33797.400000,   error = 2.801596  %\n",
            "predicted = 33957.368832,   expected = 33510.600000,   error = 1.333216  %\n",
            "predicted = 33470.843257,   expected = 34227.700000,   error = 2.211240  %\n",
            "predicted = 34205.836371,   expected = 33113.000000,   error = 3.300324  %\n",
            "predicted = 33144.417937,   expected = 32728.100000,   error = 1.272050  %\n",
            "predicted = 33006.918149,   expected = 32820.700000,   error = 0.567380  %\n",
            "predicted = 33018.365848,   expected = 31840.500000,   error = 3.699269  %\n",
            "predicted = 31832.445109,   expected = 31394.000000,   error = 1.396589  %\n",
            "predicted = 31469.131737,   expected = 31518.600000,   error = 0.156949  %\n",
            "predicted = 31635.278311,   expected = 31785.400000,   error = 0.472298  %\n",
            "predicted = 31735.381901,   expected = 30837.200000,   error = 2.912657  %\n",
            "predicted = 30752.194949,   expected = 29793.800000,   error = 3.216760  %\n",
            "predicted = 29973.576259,   expected = 32131.400000,   error = 6.715623  %\n",
            "predicted = 32404.458837,   expected = 32298.900000,   error = 0.326819  %\n",
            "predicted = 31957.371578,   expected = 33603.300000,   error = 4.898115  %\n",
            "predicted = 33460.052513,   expected = 33824.800000,   error = 1.078343  %\n",
            "predicted = 33976.107602,   expected = 35391.100000,   error = 3.998159  %\n",
            "predicted = 35721.805484,   expected = 37276.600000,   error = 4.170967  %\n",
            "predicted = 37370.846421,   expected = 39452.000000,   error = 5.275154  %\n",
            "predicted = 39478.275374,   expected = 40003.200000,   error = 1.312207  %\n",
            "predicted = 40094.104137,   expected = 40001.400000,   error = 0.231752  %\n",
            "predicted = 40484.034601,   expected = 42203.400000,   error = 4.073997  %\n",
            "predicted = 42829.065381,   expected = 41553.700000,   error = 3.069198  %\n",
            "predicted = 41652.582980,   expected = 39878.300000,   error = 4.449244  %\n",
            "predicted = 40133.020993,   expected = 39168.400000,   error = 2.462753  %\n",
            "predicted = 39755.990484,   expected = 38130.300000,   error = 4.263513  %\n",
            "predicted = 38406.063420,   expected = 39736.900000,   error = 3.349120  %\n",
            "predicted = 39718.265572,   expected = 40867.200000,   error = 2.811385  %\n",
            "predicted = 40517.734425,   expected = 42795.400000,   error = 5.322221  %\n",
            "predicted = 42563.732388,   expected = 44614.200000,   error = 4.595998  %\n",
            "predicted = 44621.738242,   expected = 43792.800000,   error = 1.892864  %\n",
            "predicted = 44004.622185,   expected = 46284.300000,   error = 4.925380  %\n",
            "predicted = 46935.481066,   expected = 45593.800000,   error = 2.942683  %\n",
            "predicted = 45807.431580,   expected = 45564.300000,   error = 0.533601  %\n",
            "predicted = 45853.762610,   expected = 44403.400000,   error = 3.266332  %\n",
            "predicted = 44772.445814,   expected = 47809.100000,   error = 6.351624  %\n",
            "predicted = 48239.031597,   expected = 47081.500000,   error = 2.458570  %\n",
            "predicted = 46688.838614,   expected = 46278.000000,   error = 0.887762  %\n",
            "\n",
            " Mean Error in Predicting Test Case Articles : 2.914178  %\n"
          ],
          "name": "stdout"
        },
        {
          "output_type": "display_data",
          "data": {
            "image/png": "[encoded data removed]",
            "text/plain": [
              "<Figure size 576x432 with 1 Axes>"
            ]
          },
          "metadata": {
            "tags": []
          }
        }
      ]
    },
    {
      "cell_type": "code",
      "metadata": {
        "colab": {
          "base_uri": "https://localhost:8080/",
          "height": 322
        },
        "id": "BY94QwWaD47q",
        "outputId": "d875d5b0-3c16-41ee-bb7f-914f6634dcbb"
      },
      "source": [
        "import matplotlib.pyplot as plt\n",
        "date = btc.Date[-800:]\n",
        "og_price = btc.Price[-800:]\n",
        "pred_true = pd.DataFrame({'Date':date,\n",
        "                          'original':og_price,\n",
        "                          'predicted':predictions})\n",
        "pred_true = pred_true.set_index(['Date'])\n",
        "\n",
        "plt.figure(figsize=(8,5))\n",
        "plt.plot(pred_true['predicted'],label='Predicted')\n",
        "plt.plot(pred_true['original'],label='True')\n",
        "plt.legend()\n",
        "plt.show()"
      ],
      "execution_count": null,
      "outputs": [
        {
          "output_type": "display_data",
          "data": {
            "image/png": "[encoded data removed]",
            "text/plain": [
              "<Figure size 576x360 with 1 Axes>"
            ]
          },
          "metadata": {
            "tags": []
          }
        }
      ]
    },
    {
      "cell_type": "code",
      "metadata": {
        "colab": {
          "base_uri": "https://localhost:8080/"
        },
        "id": "VlTSJgHDFfL-",
        "outputId": "61734b97-4830-462e-e36d-8fff847dbee7"
      },
      "source": [
        "dragon.sqrt(mean_squared_error(pred_true['original'],pred_true['predicted']))"
      ],
      "execution_count": null,
      "outputs": [
        {
          "output_type": "execute_result",
          "data": {
            "text/plain": [
              "1139.8966084914823"
            ]
          },
          "metadata": {
            "tags": []
          },
          "execution_count": 30
        }
      ]
    },
    {
      "cell_type": "code",
      "metadata": {
        "colab": {
          "base_uri": "https://localhost:8080/"
        },
        "id": "qW3BgcWGTUlg",
        "outputId": "b60156da-90dd-4830-b684-e1a918865241"
      },
      "source": [
        "mean_absolute_error(pred_true['original'],pred_true['predicted'])"
      ],
      "execution_count": null,
      "outputs": [
        {
          "output_type": "execute_result",
          "data": {
            "text/plain": [
              "629.5482119258631"
            ]
          },
          "metadata": {
            "tags": []
          },
          "execution_count": 31
        }
      ]
    },
    {
      "cell_type": "code",
      "metadata": {
        "colab": {
          "base_uri": "https://localhost:8080/"
        },
        "id": "R96Rb4EaTrI_",
        "outputId": "2887caba-6d90-45cd-a43e-4203cd6cb0b5"
      },
      "source": [
        "ptg = pd.DataFrame(np.abs((pred_true['original'] - pred_true['predicted']))/np.abs(pred_true['original']))\n",
        "ptg.replace([np.inf, -np.inf], np.nan, inplace=True)\n",
        "ptg = ptg.dropna()\n",
        "ptg.mean()*100"
      ],
      "execution_count": null,
      "outputs": [
        {
          "output_type": "execute_result",
          "data": {
            "text/plain": [
              "0    2.914178\n",
              "dtype: float64"
            ]
          },
          "metadata": {
            "tags": []
          },
          "execution_count": 33
        }
      ]
    },
    {
      "cell_type": "markdown",
      "metadata": {
        "id": "Z60XbxkmaOUu"
      },
      "source": [
        "###In-sample Fitting"
      ]
    },
    {
      "cell_type": "code",
      "metadata": {
        "colab": {
          "base_uri": "https://localhost:8080/"
        },
        "id": "AZKGr9azaRp8",
        "outputId": "5f34c40c-3db6-4921-8d16-0e4a65c32657"
      },
      "source": [
        "train = [x for x in train_arima]\n",
        "\n",
        "model_train = ARIMA(train, order=(5, 1, 0))\n",
        "model_train_fit = model_train.fit(disp=-1)\n",
        "print(model_train_fit.summary())"
      ],
      "execution_count": null,
      "outputs": [
        {
          "output_type": "stream",
          "text": [
            "/usr/local/lib/python3.7/dist-packages/statsmodels/tsa/arima_model.py:472: FutureWarning: \n",
            "statsmodels.tsa.arima_model.ARMA and statsmodels.tsa.arima_model.ARIMA have\n",
            "been deprecated in favor of statsmodels.tsa.arima.model.ARIMA (note the .\n",
            "between arima and model) and\n",
            "statsmodels.tsa.SARIMAX. These will be removed after the 0.12 release.\n",
            "\n",
            "statsmodels.tsa.arima.model.ARIMA makes use of the statespace framework and\n",
            "is both well tested and maintained.\n",
            "\n",
            "To silence this warning and continue using ARMA and ARIMA until they are\n",
            "removed, use:\n",
            "\n",
            "import warnings\n",
            "warnings.filterwarnings('ignore', 'statsmodels.tsa.arima_model.ARMA',\n",
            "                        FutureWarning)\n",
            "warnings.filterwarnings('ignore', 'statsmodels.tsa.arima_model.ARIMA',\n",
            "                        FutureWarning)\n",
            "\n",
            "  warnings.warn(ARIMA_DEPRECATION_WARN, FutureWarning)\n"
          ],
          "name": "stderr"
        },
        {
          "output_type": "stream",
          "text": [
            "                             ARIMA Model Results                              \n",
            "==============================================================================\n",
            "Dep. Variable:                    D.y   No. Observations:                 3079\n",
            "Model:                 ARIMA(5, 1, 0)   Log Likelihood                4098.760\n",
            "Method:                       css-mle   S.D. of innovations              0.064\n",
            "Date:                Mon, 16 Aug 2021   AIC                          -8183.520\n",
            "Time:                        15:10:14   BIC                          -8141.293\n",
            "Sample:                             1   HQIC                         -8168.351\n",
            "                                                                              \n",
            "==============================================================================\n",
            "                 coef    std err          z      P>|z|      [0.025      0.975]\n",
            "------------------------------------------------------------------------------\n",
            "const          0.0033      0.001      2.575      0.010       0.001       0.006\n",
            "ar.L1.D.y      0.0168      0.018      0.936      0.349      -0.018       0.052\n",
            "ar.L2.D.y     -0.1514      0.018     -8.508      0.000      -0.186      -0.116\n",
            "ar.L3.D.y      0.0167      0.018      0.927      0.354      -0.019       0.052\n",
            "ar.L4.D.y      0.1276      0.018      7.176      0.000       0.093       0.163\n",
            "ar.L5.D.y      0.0925      0.018      5.156      0.000       0.057       0.128\n",
            "                                    Roots                                    \n",
            "=============================================================================\n",
            "                  Real          Imaginary           Modulus         Frequency\n",
            "-----------------------------------------------------------------------------\n",
            "AR.1            1.4753           -0.0000j            1.4753           -0.0000\n",
            "AR.2            0.2016           -1.3823j            1.3969           -0.2269\n",
            "AR.3            0.2016           +1.3823j            1.3969            0.2269\n",
            "AR.4           -1.6294           -1.0493j            1.9380           -0.4089\n",
            "AR.5           -1.6294           +1.0493j            1.9380            0.4089\n",
            "-----------------------------------------------------------------------------\n"
          ],
          "name": "stdout"
        }
      ]
    },
    {
      "cell_type": "code",
      "metadata": {
        "colab": {
          "base_uri": "https://localhost:8080/",
          "height": 419
        },
        "id": "w0mPzg3qaEYu",
        "outputId": "6c1a829a-ad17-47e1-b052-fb9ea738a975"
      },
      "source": [
        "pred=model_train_fit.predict(typ='levels')\n",
        "pred1 = []\n",
        "orgn = []\n",
        "\n",
        "for value in pred:\n",
        "  pred1.append(dragon.exp(value))\n",
        "\n",
        "for value in train_arima[1:]:\n",
        "  orgn.append(dragon.exp(value))\n",
        "\n",
        "train_p_t = pd.DataFrame({'original':orgn,\n",
        "                          'pred':pred1})\n",
        "train_p_t.dropna(inplace=True)\n",
        "train_p_t"
      ],
      "execution_count": null,
      "outputs": [
        {
          "output_type": "execute_result",
          "data": {
            "text/html": [
              "<div>\n",
              "<style scoped>\n",
              "    .dataframe tbody tr th:only-of-type {\n",
              "        vertical-align: middle;\n",
              "    }\n",
              "\n",
              "    .dataframe tbody tr th {\n",
              "        vertical-align: top;\n",
              "    }\n",
              "\n",
              "    .dataframe thead th {\n",
              "        text-align: right;\n",
              "    }\n",
              "</style>\n",
              "<table border=\"1\" class=\"dataframe\">\n",
              "  <thead>\n",
              "    <tr style=\"text-align: right;\">\n",
              "      <th></th>\n",
              "      <th>original</th>\n",
              "      <th>pred</th>\n",
              "    </tr>\n",
              "  </thead>\n",
              "  <tbody>\n",
              "    <tr>\n",
              "      <th>0</th>\n",
              "      <td>0.3</td>\n",
              "      <td>0.300992</td>\n",
              "    </tr>\n",
              "    <tr>\n",
              "      <th>1</th>\n",
              "      <td>0.3</td>\n",
              "      <td>0.300968</td>\n",
              "    </tr>\n",
              "    <tr>\n",
              "      <th>2</th>\n",
              "      <td>0.3</td>\n",
              "      <td>0.301137</td>\n",
              "    </tr>\n",
              "    <tr>\n",
              "      <th>3</th>\n",
              "      <td>0.3</td>\n",
              "      <td>0.301129</td>\n",
              "    </tr>\n",
              "    <tr>\n",
              "      <th>4</th>\n",
              "      <td>0.3</td>\n",
              "      <td>0.300982</td>\n",
              "    </tr>\n",
              "    <tr>\n",
              "      <th>...</th>\n",
              "      <td>...</td>\n",
              "      <td>...</td>\n",
              "    </tr>\n",
              "    <tr>\n",
              "      <th>3074</th>\n",
              "      <td>8124.8</td>\n",
              "      <td>8708.629051</td>\n",
              "    </tr>\n",
              "    <tr>\n",
              "      <th>3075</th>\n",
              "      <td>7685.5</td>\n",
              "      <td>8114.777771</td>\n",
              "    </tr>\n",
              "    <tr>\n",
              "      <th>3076</th>\n",
              "      <td>7779.1</td>\n",
              "      <td>7810.977065</td>\n",
              "    </tr>\n",
              "    <tr>\n",
              "      <th>3077</th>\n",
              "      <td>7784.9</td>\n",
              "      <td>7880.513385</td>\n",
              "    </tr>\n",
              "    <tr>\n",
              "      <th>3078</th>\n",
              "      <td>7985.2</td>\n",
              "      <td>7730.795585</td>\n",
              "    </tr>\n",
              "  </tbody>\n",
              "</table>\n",
              "<p>3079 rows × 2 columns</p>\n",
              "</div>"
            ],
            "text/plain": [
              "      original         pred\n",
              "0          0.3     0.300992\n",
              "1          0.3     0.300968\n",
              "2          0.3     0.301137\n",
              "3          0.3     0.301129\n",
              "4          0.3     0.300982\n",
              "...        ...          ...\n",
              "3074    8124.8  8708.629051\n",
              "3075    7685.5  8114.777771\n",
              "3076    7779.1  7810.977065\n",
              "3077    7784.9  7880.513385\n",
              "3078    7985.2  7730.795585\n",
              "\n",
              "[3079 rows x 2 columns]"
            ]
          },
          "metadata": {
            "tags": []
          },
          "execution_count": 53
        }
      ]
    },
    {
      "cell_type": "code",
      "metadata": {
        "colab": {
          "base_uri": "https://localhost:8080/"
        },
        "id": "eMGjy8iaaveT",
        "outputId": "934676d1-9c69-443b-acd0-063bfaa3a000"
      },
      "source": [
        "dragon.sqrt(mean_squared_error(train_p_t['original'],\n",
        "                               train_p_t['pred']))"
      ],
      "execution_count": null,
      "outputs": [
        {
          "output_type": "execute_result",
          "data": {
            "text/plain": [
              "194.89025253677943"
            ]
          },
          "metadata": {
            "tags": []
          },
          "execution_count": 54
        }
      ]
    },
    {
      "cell_type": "code",
      "metadata": {
        "colab": {
          "base_uri": "https://localhost:8080/"
        },
        "id": "EJmNfkO1lpwy",
        "outputId": "1d347927-9a6a-4e38-b00f-0ec2c586392d"
      },
      "source": [
        "mean_absolute_error(train_p_t['original'],train_p_t['pred'])"
      ],
      "execution_count": null,
      "outputs": [
        {
          "output_type": "execute_result",
          "data": {
            "text/plain": [
              "61.71007648112877"
            ]
          },
          "metadata": {
            "tags": []
          },
          "execution_count": 56
        }
      ]
    },
    {
      "cell_type": "code",
      "metadata": {
        "colab": {
          "base_uri": "https://localhost:8080/"
        },
        "id": "XZ1GliiBlpw7",
        "outputId": "4a2a42e9-05e8-4db8-8914-2630a10e2c57"
      },
      "source": [
        "ptg = pd.DataFrame(np.abs((train_p_t['original']-train_p_t['pred']))/np.abs(train_p_t['original']))\n",
        "ptg.replace([np.inf, -np.inf], np.nan, inplace=True)\n",
        "ptg = ptg.dropna()\n",
        "ptg.mean()*100"
      ],
      "execution_count": null,
      "outputs": [
        {
          "output_type": "execute_result",
          "data": {
            "text/plain": [
              "0    3.400342\n",
              "dtype: float64"
            ]
          },
          "metadata": {
            "tags": []
          },
          "execution_count": 55
        }
      ]
    },
    {
      "cell_type": "code",
      "metadata": {
        "colab": {
          "base_uri": "https://localhost:8080/",
          "height": 322
        },
        "id": "dYr4lMK-ly3D",
        "outputId": "ce3c1de1-afe0-4c80-f674-096af5bb86d9"
      },
      "source": [
        "plt.figure(figsize=(8,5))\n",
        "\n",
        "plt.plot(train_p_t['original'],label='Train_True')\n",
        "plt.plot(train_p_t['pred'],label='Train_Predicted')\n",
        "plt.legend()\n",
        "plt.show()"
      ],
      "execution_count": null,
      "outputs": [
        {
          "output_type": "display_data",
          "data": {
            "image/png": "[encoded data removed]",
            "text/plain": [
              "<Figure size 576x360 with 1 Axes>"
            ]
          },
          "metadata": {
            "tags": []
          }
        }
      ]
    },
    {
      "cell_type": "code",
      "metadata": {
        "id": "RWDUqZaSmbtH"
      },
      "source": [
        ""
      ],
      "execution_count": null,
      "outputs": []
    }
  ]
}